{
 "cells": [
  {
   "cell_type": "code",
   "execution_count": 1,
   "id": "42b72336",
   "metadata": {},
   "outputs": [
    {
     "data": {
      "text/plain": [
       "4"
      ]
     },
     "execution_count": 1,
     "metadata": {},
     "output_type": "execute_result"
    }
   ],
   "source": [
    "1+3"
   ]
  },
  {
   "cell_type": "code",
   "execution_count": 2,
   "id": "14b0108a",
   "metadata": {},
   "outputs": [
    {
     "name": "stdout",
     "output_type": "stream",
     "text": [
      "4\n"
     ]
    }
   ],
   "source": [
    "print(1+3)"
   ]
  },
  {
   "cell_type": "code",
   "execution_count": 3,
   "id": "18ca88c5",
   "metadata": {},
   "outputs": [],
   "source": [
    "a = 1"
   ]
  },
  {
   "cell_type": "code",
   "execution_count": 5,
   "id": "a619a8d9",
   "metadata": {},
   "outputs": [],
   "source": [
    "b = 2"
   ]
  },
  {
   "cell_type": "code",
   "execution_count": 6,
   "id": "a6d83b36",
   "metadata": {},
   "outputs": [],
   "source": [
    "c = a+b"
   ]
  },
  {
   "cell_type": "code",
   "execution_count": 7,
   "id": "693425d9",
   "metadata": {
    "scrolled": true
   },
   "outputs": [
    {
     "name": "stdout",
     "output_type": "stream",
     "text": [
      "3\n"
     ]
    }
   ],
   "source": [
    "print(c)"
   ]
  },
  {
   "cell_type": "code",
   "execution_count": 8,
   "id": "68aa63bf",
   "metadata": {},
   "outputs": [
    {
     "name": "stdout",
     "output_type": "stream",
     "text": [
      "3\n"
     ]
    }
   ],
   "source": [
    "a = 1\n",
    "b = 2\n",
    "c = a+b\n",
    "print(c)"
   ]
  },
  {
   "cell_type": "code",
   "execution_count": 1,
   "id": "d74e37ae",
   "metadata": {},
   "outputs": [
    {
     "data": {
      "text/plain": [
       "3400.0"
      ]
     },
     "execution_count": 1,
     "metadata": {},
     "output_type": "execute_result"
    }
   ],
   "source": [
    "3.4e3"
   ]
  },
  {
   "cell_type": "code",
   "execution_count": 3,
   "id": "74dc1b9a",
   "metadata": {},
   "outputs": [
    {
     "data": {
      "text/plain": [
       "0.0034"
      ]
     },
     "execution_count": 3,
     "metadata": {},
     "output_type": "execute_result"
    }
   ],
   "source": [
    "3.4e-3"
   ]
  },
  {
   "cell_type": "code",
   "execution_count": 4,
   "id": "0e02727a",
   "metadata": {},
   "outputs": [
    {
     "data": {
      "text/plain": [
       "9"
      ]
     },
     "execution_count": 4,
     "metadata": {},
     "output_type": "execute_result"
    }
   ],
   "source": [
    "3**2"
   ]
  },
  {
   "cell_type": "code",
   "execution_count": 5,
   "id": "a954e01a",
   "metadata": {
    "scrolled": true
   },
   "outputs": [
    {
     "data": {
      "text/plain": [
       "1"
      ]
     },
     "execution_count": 5,
     "metadata": {},
     "output_type": "execute_result"
    }
   ],
   "source": [
    "3^2"
   ]
  },
  {
   "cell_type": "markdown",
   "id": "e5b63759",
   "metadata": {},
   "source": [
    "#재고 5\n",
    "#3개마다 1박스 구성 가능\n",
    "#출하 가능 박스 개수\n",
    "#남은 재고 박스"
   ]
  },
  {
   "cell_type": "code",
   "execution_count": 10,
   "id": "ca007bf2",
   "metadata": {},
   "outputs": [
    {
     "name": "stdout",
     "output_type": "stream",
     "text": [
      "출하 가능 박스:\t1개\n",
      "출하 후 재고:\t2개\n"
     ]
    }
   ],
   "source": [
    "stock_current = 5\n",
    "package_size = 3\n",
    "box_available = stock_current//package_size\n",
    "stock_current = stock_current - box_available * package_size\n",
    "print(\"출하 가능 박스:\\t\"+ str(box_available) +\"개\")\n",
    "print(\"출하 후 재고:\\t\"+ str(stock_current)+\"개\")\n",
    "\n"
   ]
  },
  {
   "cell_type": "code",
   "execution_count": 12,
   "id": "4ed12424",
   "metadata": {},
   "outputs": [
    {
     "name": "stdout",
     "output_type": "stream",
     "text": [
      "사과\n",
      "자두\n",
      "수박\n"
     ]
    }
   ],
   "source": [
    "print('사과')\n",
    "print(\"자두\")\n",
    "print(\"\"\"수박\"\"\")"
   ]
  },
  {
   "cell_type": "code",
   "execution_count": 13,
   "id": "43a293bd",
   "metadata": {},
   "outputs": [
    {
     "name": "stdout",
     "output_type": "stream",
     "text": [
      "He said that 'I am so happy'.\n"
     ]
    }
   ],
   "source": [
    "# He said that \"I am so happy\".\n",
    "print(\"He said that 'I am so happy'.\")"
   ]
  },
  {
   "cell_type": "code",
   "execution_count": 14,
   "id": "8eae35ca",
   "metadata": {},
   "outputs": [
    {
     "name": "stdout",
     "output_type": "stream",
     "text": [
      "I am can be written as I'm\n"
     ]
    }
   ],
   "source": [
    "# I am can be written as I'm\n",
    "print(\"I am can be written as I'm\")"
   ]
  },
  {
   "cell_type": "code",
   "execution_count": 15,
   "id": "6160b3b7",
   "metadata": {},
   "outputs": [
    {
     "name": "stdout",
     "output_type": "stream",
     "text": [
      "best\n",
      "music\n",
      "award\n"
     ]
    }
   ],
   "source": [
    "print(\"\"\"best\n",
    "music\n",
    "award\"\"\")"
   ]
  },
  {
   "cell_type": "code",
   "execution_count": 22,
   "id": "507ed8b0",
   "metadata": {},
   "outputs": [
    {
     "name": "stdout",
     "output_type": "stream",
     "text": [
      "best\\music\u0007ward\n"
     ]
    }
   ],
   "source": [
    "print(\"best\\music\\award\")"
   ]
  },
  {
   "cell_type": "code",
   "execution_count": 23,
   "id": "6ff0f87e",
   "metadata": {
    "scrolled": true
   },
   "outputs": [
    {
     "name": "stdout",
     "output_type": "stream",
     "text": [
      "a\\b\\c\\\n"
     ]
    }
   ],
   "source": [
    "print(\"a\\\\b\\\\c\\\\\")"
   ]
  },
  {
   "cell_type": "code",
   "execution_count": 24,
   "id": "f78665ab",
   "metadata": {},
   "outputs": [
    {
     "name": "stdout",
     "output_type": "stream",
     "text": [
      "girl's generation\n"
     ]
    }
   ],
   "source": [
    "print('girl\\'s generation')"
   ]
  },
  {
   "cell_type": "code",
   "execution_count": 25,
   "id": "b598f451",
   "metadata": {},
   "outputs": [
    {
     "name": "stdout",
     "output_type": "stream",
     "text": [
      "girl's generation\n"
     ]
    }
   ],
   "source": [
    "print(\"girl's generation\")"
   ]
  },
  {
   "cell_type": "code",
   "execution_count": 28,
   "id": "e8d9054e",
   "metadata": {},
   "outputs": [
    {
     "name": "stdout",
     "output_type": "stream",
     "text": [
      "안녕하세요. 강민지님 만나서 반갑습니다\n"
     ]
    }
   ],
   "source": [
    "greeting = \"안녕하세요. \"\n",
    "name = \"강민지\"\n",
    "greeting2 = \"님 만나서 반갑습니다\"\n",
    "sentence1 = greeting + name + greeting2\n",
    "print(sentence1)"
   ]
  },
  {
   "cell_type": "code",
   "execution_count": 33,
   "id": "b532d19a",
   "metadata": {},
   "outputs": [
    {
     "name": "stdout",
     "output_type": "stream",
     "text": [
      "안녕하세요. 냥님 만나서 반갑습니다\n"
     ]
    }
   ],
   "source": [
    "name = \"냥\"\n",
    "sentence1 = greeting + name + greeting2\n",
    "print(sentence1)"
   ]
  },
  {
   "cell_type": "code",
   "execution_count": 35,
   "id": "f3866916",
   "metadata": {},
   "outputs": [
    {
     "data": {
      "text/plain": [
       "'python is fun!'"
      ]
     },
     "execution_count": 35,
     "metadata": {},
     "output_type": "execute_result"
    }
   ],
   "source": [
    "head = \"python\"\n",
    "tail = \" is fun!\"\n",
    "head+tail"
   ]
  },
  {
   "cell_type": "code",
   "execution_count": 36,
   "id": "22f6dbe2",
   "metadata": {
    "scrolled": true
   },
   "outputs": [
    {
     "data": {
      "text/plain": [
       "'pythonpython'"
      ]
     },
     "execution_count": 36,
     "metadata": {},
     "output_type": "execute_result"
    }
   ],
   "source": [
    "a = \"python\"\n",
    "a*2"
   ]
  },
  {
   "cell_type": "code",
   "execution_count": 46,
   "id": "80d10753",
   "metadata": {},
   "outputs": [
    {
     "name": "stdout",
     "output_type": "stream",
     "text": [
      "안녕하세요. 냥님 만나서 정말 정말 정말 반갑습니다.\n"
     ]
    }
   ],
   "source": [
    "friendly = 3\n",
    "expression1 = \" 정말\"+ greeting2 \n",
    "greeting2 = \"님 만나서\"\n",
    "greeting3 = \" 반갑습니다.\"\n",
    "sentence1 = greeting + name + greeting2 + expression1*friendly + greeting3\n",
    "print(sentence1)"
   ]
  },
  {
   "cell_type": "code",
   "execution_count": 53,
   "id": "cd854dda",
   "metadata": {},
   "outputs": [],
   "source": [
    "first_name = \"민지\"\n",
    "second_name = \"강\"\n",
    "if len(first_name) > 3:\n",
    "    print(\"길이 초과 탐색\")\n",
    "if len(second_name) > 1:\n",
    "    print(\"성 길이 초과 탐색\")"
   ]
  },
  {
   "cell_type": "code",
   "execution_count": 60,
   "id": "50ca5344",
   "metadata": {},
   "outputs": [],
   "source": [
    "first_over_count = 0\n",
    "second_over_count = 0"
   ]
  }
 ],
 "metadata": {
  "kernelspec": {
   "display_name": "Python 3",
   "language": "python",
   "name": "python3"
  },
  "language_info": {
   "codemirror_mode": {
    "name": "ipython",
    "version": 3
   },
   "file_extension": ".py",
   "mimetype": "text/x-python",
   "name": "python",
   "nbconvert_exporter": "python",
   "pygments_lexer": "ipython3",
   "version": "3.8.10"
  }
 },
 "nbformat": 4,
 "nbformat_minor": 5
}

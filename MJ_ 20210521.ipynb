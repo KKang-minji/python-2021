{
 "cells": [
  {
   "cell_type": "code",
   "execution_count": 1,
   "id": "e2240cab",
   "metadata": {},
   "outputs": [],
   "source": [
    "a = \"Life is ~~~\""
   ]
  },
  {
   "cell_type": "code",
   "execution_count": 2,
   "id": "e009744c",
   "metadata": {},
   "outputs": [],
   "source": [
    "a1 = a[0:4]"
   ]
  },
  {
   "cell_type": "code",
   "execution_count": 3,
   "id": "853a811e",
   "metadata": {},
   "outputs": [],
   "source": [
    "a2 = a[0:5]"
   ]
  },
  {
   "cell_type": "code",
   "execution_count": 7,
   "id": "321ede06",
   "metadata": {},
   "outputs": [
    {
     "name": "stdout",
     "output_type": "stream",
     "text": [
      "다르다\n"
     ]
    }
   ],
   "source": [
    "if a1 == a2:\n",
    "    print(\"같다\")\n",
    "else:\n",
    "    print(\"다르다\")"
   ]
  },
  {
   "cell_type": "code",
   "execution_count": 5,
   "id": "8685dad1",
   "metadata": {},
   "outputs": [
    {
     "name": "stdout",
     "output_type": "stream",
     "text": [
      "Life 4\n",
      "Life  5\n"
     ]
    }
   ],
   "source": [
    "print(a1, len(a1))\n",
    "print(a2, len(a2))"
   ]
  },
  {
   "cell_type": "code",
   "execution_count": 10,
   "id": "5ad4c941",
   "metadata": {},
   "outputs": [],
   "source": [
    "words1 = \"딸기, 바나나, 수박\""
   ]
  },
  {
   "cell_type": "code",
   "execution_count": 35,
   "id": "050e09bc",
   "metadata": {},
   "outputs": [
    {
     "name": "stdout",
     "output_type": "stream",
     "text": [
      "바나나\n"
     ]
    }
   ],
   "source": [
    "wordToFind = \"바나나\"\n",
    "indexOfBanana = words1.find(wordToFind)\n",
    "\n",
    "bananaFromWords1 = words1[indexOfBanana:(indexOfBanana+len(wordToFind))]\n",
    "print(bananaFromWords1)"
   ]
  },
  {
   "cell_type": "code",
   "execution_count": 12,
   "id": "14a1f0be",
   "metadata": {},
   "outputs": [
    {
     "name": "stdout",
     "output_type": "stream",
     "text": [
      "수박\n"
     ]
    }
   ],
   "source": [
    "wmFromWords1 = words1[9:]\n",
    "print(wmFromWords1)"
   ]
  },
  {
   "cell_type": "code",
   "execution_count": 13,
   "id": "e7d56844",
   "metadata": {},
   "outputs": [
    {
     "name": "stdout",
     "output_type": "stream",
     "text": [
      "딸기\n"
     ]
    }
   ],
   "source": [
    "sbFromWords1 = words1[:2]\n",
    "print(sbFromWords1)"
   ]
  },
  {
   "cell_type": "code",
   "execution_count": 40,
   "id": "4214f0c8",
   "metadata": {},
   "outputs": [
    {
     "data": {
      "text/plain": [
       "'i'"
      ]
     },
     "execution_count": 40,
     "metadata": {},
     "output_type": "execute_result"
    }
   ],
   "source": [
    "a = \"pithon\"\n",
    "a[1]\n",
    "a[1] = 'y'   #문자열을 바꿀 수 없다."
   ]
  },
  {
   "cell_type": "code",
   "execution_count": 50,
   "id": "e906fdd2",
   "metadata": {},
   "outputs": [],
   "source": [
    "a = \"pithon\"\n",
    "a[:1]\n",
    "a[2:]\n",
    "a2=a[:1]+'y'+a[2:]"
   ]
  },
  {
   "cell_type": "code",
   "execution_count": 51,
   "id": "d05ec26e",
   "metadata": {},
   "outputs": [
    {
     "name": "stdout",
     "output_type": "stream",
     "text": [
      "python\n"
     ]
    }
   ],
   "source": [
    "a = a2\n",
    "print(a)"
   ]
  },
  {
   "cell_type": "code",
   "execution_count": 45,
   "id": "69079336",
   "metadata": {
    "scrolled": true
   },
   "outputs": [
    {
     "data": {
      "text/plain": [
       "('p', 'thon', 'python')"
      ]
     },
     "execution_count": 45,
     "metadata": {},
     "output_type": "execute_result"
    }
   ],
   "source": [
    "a[:1],a[2:],a[:1] + 'y' + a[2:]"
   ]
  },
  {
   "cell_type": "code",
   "execution_count": 65,
   "id": "fc9cfcdc",
   "metadata": {},
   "outputs": [
    {
     "name": "stdout",
     "output_type": "stream",
     "text": [
      "name\tmajor\thowManyPhone\n",
      "강민지\tIT\t          120000000\n",
      "ㅎㅎ\tBT\t          30000000\n",
      "name\tmajor\thowManyPhone\n",
      "강민지\tIT\t 120000000\n",
      "ㅎㅎ\tBT\t  30000000\n",
      "강민지\tIT\t           120000000\n",
      "ㅎㅎ\tBT\t            30000000\n"
     ]
    }
   ],
   "source": [
    "name1 = \"강민지\"; major1 = \"IT\"; howManyPhone1 = 120000000\n",
    "name2 = \"ㅎㅎ\"; major2 = \"BT\"; howManyPhone2 = 30000000\n",
    "\n",
    "print(\"name\"+ \"\\t\" + \"major\" + \"\\t\" + \"howManyPhone\")\n",
    "print(name1+ \"\\t\" + major1 + \"\\t\" +\"          \"+ str(howManyPhone1))\n",
    "print(name2+ \"\\t\" + major2 + \"\\t\" +\"          \"+ str(howManyPhone2))\n",
    "\n",
    "print(\"name\"+ \"\\t\" + \"major\" + \"\\t\" + \"howManyPhone\")\n",
    "print(name1+ \"\\t\" + major1 + \"\\t\" +\"\"+ \"%10s\"%str(howManyPhone1))\n",
    "print(name2+ \"\\t\" + major2 + \"\\t\" +\"\"+ \"%10s\"%str(howManyPhone2))\n",
    "print(name1+ \"\\t\" + major1 + \"\\t\" +\"\"+ \"%20s\"%str(howManyPhone1))\n",
    "print(name2+ \"\\t\" + major2 + \"\\t\" +\"\"+ \"%20s\"%str(howManyPhone2))\n",
    "#숫자는 오른쪽 정렬"
   ]
  },
  {
   "cell_type": "code",
   "execution_count": 57,
   "id": "71421ae9",
   "metadata": {},
   "outputs": [
    {
     "name": "stdout",
     "output_type": "stream",
     "text": [
      "%s 120\n",
      "120\n",
      "       120\n",
      "  12000000\n"
     ]
    }
   ],
   "source": [
    "print(\"%s\",\"120\")\n",
    "print(\"%s\"%\"120\")\n",
    "print(\"%10s\"%\"120\")\n",
    "print(\"%10s\"%\"12000000\")\n"
   ]
  },
  {
   "cell_type": "code",
   "execution_count": 66,
   "id": "a66628a8",
   "metadata": {},
   "outputs": [
    {
     "name": "stdout",
     "output_type": "stream",
     "text": [
      "       120\n",
      "120       \n"
     ]
    }
   ],
   "source": [
    "print(\"%10s\"%\"120\")\n",
    "print(\"%-10s\"%\"120\")"
   ]
  },
  {
   "cell_type": "code",
   "execution_count": 68,
   "id": "8609022e",
   "metadata": {},
   "outputs": [
    {
     "name": "stdout",
     "output_type": "stream",
     "text": [
      "120.00\n",
      "120000.00\n"
     ]
    }
   ],
   "source": [
    "print(\"%0.2f\"%120)\n",
    "print(\"%0.2f\"%120000)"
   ]
  },
  {
   "cell_type": "code",
   "execution_count": 69,
   "id": "49ad95ed",
   "metadata": {},
   "outputs": [
    {
     "name": "stdout",
     "output_type": "stream",
     "text": [
      "    120.00\n",
      " 120000.00\n"
     ]
    }
   ],
   "source": [
    "print(\"%10.2f\"%120)\n",
    "print(\"%10.2f\"%120000)"
   ]
  },
  {
   "cell_type": "code",
   "execution_count": 78,
   "id": "ee552888",
   "metadata": {},
   "outputs": [
    {
     "data": {
      "text/plain": [
       "'~~~{0}~~~~{1}~~~~~~'"
      ]
     },
     "execution_count": 78,
     "metadata": {},
     "output_type": "execute_result"
    }
   ],
   "source": [
    "\"~~~{0}~~~~{1}~~~~~~\""
   ]
  },
  {
   "cell_type": "code",
   "execution_count": 77,
   "id": "63fcb8a6",
   "metadata": {
    "scrolled": true
   },
   "outputs": [
    {
     "data": {
      "text/plain": [
       "'~~~민지~~~~2~~~~~~'"
      ]
     },
     "execution_count": 77,
     "metadata": {},
     "output_type": "execute_result"
    }
   ],
   "source": [
    "\"~~~{0}~~~~{1}~~~~~~\".format(\"민지\", 2)"
   ]
  },
  {
   "cell_type": "code",
   "execution_count": 80,
   "id": "42c6807f",
   "metadata": {},
   "outputs": [
    {
     "data": {
      "text/plain": [
       "'~~~민지~~~~2~~~~~민지~~~'"
      ]
     },
     "execution_count": 80,
     "metadata": {},
     "output_type": "execute_result"
    }
   ],
   "source": [
    "\"~~~{0}~~~~{1}~~~~~{0}~~~\".format(\"민지\", 2)"
   ]
  },
  {
   "cell_type": "code",
   "execution_count": 81,
   "id": "ae7e7eef",
   "metadata": {},
   "outputs": [
    {
     "data": {
      "text/plain": [
       "'~~~민지~~~~2~~~~~2~~~'"
      ]
     },
     "execution_count": 81,
     "metadata": {},
     "output_type": "execute_result"
    }
   ],
   "source": [
    "\"~~~{name}~~~~{howmany}~~~~~{howmany}~~~\".format(name=\"민지\", howmany= 2)"
   ]
  },
  {
   "cell_type": "code",
   "execution_count": 83,
   "id": "6dc7f978",
   "metadata": {},
   "outputs": [
    {
     "data": {
      "text/plain": [
       "'120'"
      ]
     },
     "execution_count": 83,
     "metadata": {},
     "output_type": "execute_result"
    }
   ],
   "source": [
    "\"{0}\".format(\"120\")"
   ]
  },
  {
   "cell_type": "code",
   "execution_count": 84,
   "id": "442993d4",
   "metadata": {},
   "outputs": [
    {
     "data": {
      "text/plain": [
       "'120       '"
      ]
     },
     "execution_count": 84,
     "metadata": {},
     "output_type": "execute_result"
    }
   ],
   "source": [
    "#문자 후 공백\n",
    "\"{0:<10}\".format(\"120\")"
   ]
  },
  {
   "cell_type": "code",
   "execution_count": 87,
   "id": "fa507167",
   "metadata": {},
   "outputs": [
    {
     "data": {
      "text/plain": [
       "'_______120'"
      ]
     },
     "execution_count": 87,
     "metadata": {},
     "output_type": "execute_result"
    }
   ],
   "source": [
    "#문자 오른쪽으로 공백\n",
    "\"{0:>10}\".format(\"120\")"
   ]
  },
  {
   "cell_type": "code",
   "execution_count": 86,
   "id": "8753c439",
   "metadata": {},
   "outputs": [
    {
     "data": {
      "text/plain": [
       "'   120    '"
      ]
     },
     "execution_count": 86,
     "metadata": {},
     "output_type": "execute_result"
    }
   ],
   "source": [
    "#가운데 위치\n",
    "\"{0:^10}\".format(\"120\")"
   ]
  },
  {
   "cell_type": "code",
   "execution_count": 88,
   "id": "51b88edc",
   "metadata": {},
   "outputs": [
    {
     "data": {
      "text/plain": [
       "'_______120'"
      ]
     },
     "execution_count": 88,
     "metadata": {},
     "output_type": "execute_result"
    }
   ],
   "source": [
    "\"{0:_>10}\".format(\"120\")"
   ]
  },
  {
   "cell_type": "code",
   "execution_count": 89,
   "id": "e375d4f1",
   "metadata": {},
   "outputs": [
    {
     "data": {
      "text/plain": [
       "'나의 이름은 강민지입니다. 나이는 120살 까지 살고 싶어요'"
      ]
     },
     "execution_count": 89,
     "metadata": {},
     "output_type": "execute_result"
    }
   ],
   "source": [
    "name = \"강민지\"\n",
    "age = 120\n",
    "\"나의 이름은 {0}입니다. 나이는 {1}살 까지 살고 싶어요\".format(name,age)"
   ]
  },
  {
   "cell_type": "code",
   "execution_count": 90,
   "id": "8299057d",
   "metadata": {},
   "outputs": [
    {
     "data": {
      "text/plain": [
       "'나의 이름은 강민지입니다. 나이는 120살 까지 살고 싶어요'"
      ]
     },
     "execution_count": 90,
     "metadata": {},
     "output_type": "execute_result"
    }
   ],
   "source": [
    "f\"나의 이름은 {name}입니다. 나이는 {age}살 까지 살고 싶어요\""
   ]
  },
  {
   "cell_type": "code",
   "execution_count": 91,
   "id": "00eed8dd",
   "metadata": {},
   "outputs": [
    {
     "data": {
      "text/plain": [
       "3"
      ]
     },
     "execution_count": 91,
     "metadata": {},
     "output_type": "execute_result"
    }
   ],
   "source": [
    "len(\"바나나\")"
   ]
  },
  {
   "cell_type": "code",
   "execution_count": 94,
   "id": "8c893cb6",
   "metadata": {},
   "outputs": [
    {
     "data": {
      "text/plain": [
       "3"
      ]
     },
     "execution_count": 94,
     "metadata": {},
     "output_type": "execute_result"
    }
   ],
   "source": [
    "\"내가 가장 좋아하는 바나나는 크기가 큰 바나나 입니다. 왜냐면 작은 바나나는\\\n",
    "같은 무게를 사도 껍질로 다 버려져요\".count(\"바나나\")"
   ]
  },
  {
   "cell_type": "code",
   "execution_count": 97,
   "id": "f60abc59",
   "metadata": {},
   "outputs": [
    {
     "data": {
      "text/plain": [
       "'a,b,c,d'"
      ]
     },
     "execution_count": 97,
     "metadata": {},
     "output_type": "execute_result"
    }
   ],
   "source": [
    "\",\".join(\"abcd\")"
   ]
  },
  {
   "cell_type": "code",
   "execution_count": 100,
   "id": "6029adc8",
   "metadata": {},
   "outputs": [
    {
     "data": {
      "text/plain": [
       "'abc,def,ghi'"
      ]
     },
     "execution_count": 100,
     "metadata": {},
     "output_type": "execute_result"
    }
   ],
   "source": [
    "\",\".join([\"abc\",\"def\",\"ghi\"])   #[]의미: 목록안에 해당 데이터들이 있는것"
   ]
  },
  {
   "cell_type": "code",
   "execution_count": 108,
   "id": "63636bd3",
   "metadata": {},
   "outputs": [],
   "source": [
    "phonenumber = \"01050148946\""
   ]
  },
  {
   "cell_type": "code",
   "execution_count": 109,
   "id": "2246bd7a",
   "metadata": {},
   "outputs": [
    {
     "name": "stdout",
     "output_type": "stream",
     "text": [
      "010\n",
      "5014\n",
      "8946\n"
     ]
    }
   ],
   "source": [
    "frontnum = phonenumber[:3]\n",
    "print(frontnum)\n",
    "middlenum = phonenumber[3:7]\n",
    "print(middlenum)\n",
    "endnum = phonenumber[7:]\n",
    "print(endnum)"
   ]
  },
  {
   "cell_type": "code",
   "execution_count": 110,
   "id": "f9c8c47e",
   "metadata": {},
   "outputs": [
    {
     "data": {
      "text/plain": [
       "'010-5014-8946'"
      ]
     },
     "execution_count": 110,
     "metadata": {},
     "output_type": "execute_result"
    }
   ],
   "source": [
    "\"-\".join([frontnum,middlenum,endnum])"
   ]
  },
  {
   "cell_type": "code",
   "execution_count": 104,
   "id": "a6162d12",
   "metadata": {},
   "outputs": [
    {
     "data": {
      "text/plain": [
       "('010-1234-5678', '01012345678')"
      ]
     },
     "execution_count": 104,
     "metadata": {},
     "output_type": "execute_result"
    }
   ],
   "source": [
    "#숫자만으로 지정된 전화번호를 DB에서 얻었다.  010 1234 5678\n",
    "#-로 연결, 아무것도 없이 연결\n",
    "\"-\".join([\"010\",\"1234\",\"5678\"]),  \"\".join([\"010\",\"1234\",\"5678\"])  "
   ]
  },
  {
   "cell_type": "markdown",
   "id": "a387f7d6",
   "metadata": {},
   "source": [
    "문자열 바꾸기"
   ]
  },
  {
   "cell_type": "code",
   "execution_count": 107,
   "id": "93399b77",
   "metadata": {},
   "outputs": [
    {
     "name": "stdout",
     "output_type": "stream",
     "text": [
      "I love peach. because is so sweet.\n"
     ]
    }
   ],
   "source": [
    "a = \"I love apple. because is so sweet.\"\n",
    "b = a.replace(\"apple\",\"peach\")\n",
    "print(b)"
   ]
  },
  {
   "cell_type": "code",
   "execution_count": 115,
   "id": "d6fc592b",
   "metadata": {},
   "outputs": [
    {
     "name": "stdout",
     "output_type": "stream",
     "text": [
      "01012345678\n"
     ]
    }
   ],
   "source": [
    "#010-1234-5678 -> '01052465208'\n",
    "a = \"010-1234-5678\"\n",
    "b = a.replace(\"-\",\"\")\n",
    "print(b)"
   ]
  },
  {
   "cell_type": "markdown",
   "id": "268c23de",
   "metadata": {},
   "source": [
    "문자열 나누기"
   ]
  },
  {
   "cell_type": "code",
   "execution_count": 112,
   "id": "dd7c44c5",
   "metadata": {},
   "outputs": [
    {
     "name": "stdout",
     "output_type": "stream",
     "text": [
      "['life', 'is', 'good']\n"
     ]
    }
   ],
   "source": [
    "a = \"life is good\"\n",
    "b = a.split()\n",
    "print(b)"
   ]
  },
  {
   "cell_type": "code",
   "execution_count": 121,
   "id": "1b931492",
   "metadata": {},
   "outputs": [
    {
     "name": "stdout",
     "output_type": "stream",
     "text": [
      "식별번호: 010 , 국번 1234 ,개인번호 5678\n"
     ]
    }
   ],
   "source": [
    "a = '010-1234-5678'\n",
    "b = a.split(\"-\")\n",
    "print(\"식별번호:\", b[0], \", 국번\",b[1], \",개인번호\",b[2])"
   ]
  },
  {
   "cell_type": "markdown",
   "id": "645b77df",
   "metadata": {},
   "source": [
    "# 리스트"
   ]
  },
  {
   "cell_type": "code",
   "execution_count": 125,
   "id": "2d7214b0",
   "metadata": {},
   "outputs": [
    {
     "name": "stdout",
     "output_type": "stream",
     "text": [
      "[]\n",
      "[1, 2, [3, 4]]\n",
      "3\n",
      "1\n",
      "[3, 4]\n",
      "4\n",
      "[3, 4]\n"
     ]
    }
   ],
   "source": [
    "a=[]\n",
    "print(a)\n",
    "e = [1,2, [3,4]]\n",
    "print(e)\n",
    "print(len(e))\n",
    "print(e[0])\n",
    "print(e[2])\n",
    "print(e[2][1])\n",
    "print(e[-1])"
   ]
  },
  {
   "cell_type": "code",
   "execution_count": 128,
   "id": "d349381b",
   "metadata": {},
   "outputs": [
    {
     "name": "stdout",
     "output_type": "stream",
     "text": [
      "c\n",
      "[1, 2, 4]\n"
     ]
    }
   ],
   "source": [
    "str1 =\"abc\"\n",
    "print(str1[2])\n",
    "\n",
    "a = [1,2,3]\n",
    "a[2]=4\n",
    "print(a)"
   ]
  },
  {
   "cell_type": "code",
   "execution_count": 133,
   "id": "f3a4667c",
   "metadata": {},
   "outputs": [
    {
     "name": "stdout",
     "output_type": "stream",
     "text": [
      "[1, 2, 3, 4]\n"
     ]
    }
   ],
   "source": [
    "a = [1,4,3,2]\n",
    "a.sort()\n",
    "print(a)"
   ]
  },
  {
   "cell_type": "code",
   "execution_count": 136,
   "id": "a701a697",
   "metadata": {},
   "outputs": [
    {
     "name": "stdout",
     "output_type": "stream",
     "text": [
      "[1, 2, 3, 4]\n"
     ]
    }
   ],
   "source": [
    "a = [1,4,3,2]\n",
    "a2 = a[:]   #전체르 복사함.\n",
    "a2.sort()\n",
    "print(a2)"
   ]
  },
  {
   "cell_type": "code",
   "execution_count": 137,
   "id": "6b9372f6",
   "metadata": {},
   "outputs": [
    {
     "name": "stdout",
     "output_type": "stream",
     "text": [
      "[1, 4, 3, 2]\n"
     ]
    }
   ],
   "source": [
    "print(a)"
   ]
  },
  {
   "cell_type": "code",
   "execution_count": 138,
   "id": "3f71ec56",
   "metadata": {},
   "outputs": [
    {
     "name": "stdout",
     "output_type": "stream",
     "text": [
      "[1, 2, 3, 4]\n",
      "[1, 4, 3, 2]\n"
     ]
    }
   ],
   "source": [
    "a = [1,4,3,2]\n",
    "a2 = sorted(a)\n",
    "print(a2)\n",
    "print(a)"
   ]
  },
  {
   "cell_type": "code",
   "execution_count": 145,
   "id": "c34c742e",
   "metadata": {},
   "outputs": [
    {
     "name": "stdout",
     "output_type": "stream",
     "text": [
      "[4, 3, 2, 1]\n"
     ]
    }
   ],
   "source": [
    "a = [1,4,3,2]\n",
    "a.sort(reverse = True)\n",
    "\n",
    "print(a)"
   ]
  },
  {
   "cell_type": "code",
   "execution_count": 158,
   "id": "c79aa646",
   "metadata": {
    "scrolled": true
   },
   "outputs": [
    {
     "name": "stdout",
     "output_type": "stream",
     "text": [
      "[4, 3, 2, 1]\n",
      "[1, 4, 3, 2]\n"
     ]
    }
   ],
   "source": [
    "a = [1,4,3,2]\n",
    "a2=sorted(a, reverse = True)\n",
    "print(a2)\n",
    "print(a)"
   ]
  },
  {
   "cell_type": "code",
   "execution_count": 159,
   "id": "9eb54146",
   "metadata": {},
   "outputs": [
    {
     "data": {
      "text/plain": [
       "1"
      ]
     },
     "execution_count": 159,
     "metadata": {},
     "output_type": "execute_result"
    }
   ],
   "source": [
    "a = [1, 2, 3]\n",
    "a[0]"
   ]
  },
  {
   "cell_type": "code",
   "execution_count": 160,
   "id": "68341714",
   "metadata": {},
   "outputs": [
    {
     "data": {
      "text/plain": [
       "[1, 2, 3]"
      ]
     },
     "execution_count": 160,
     "metadata": {},
     "output_type": "execute_result"
    }
   ],
   "source": [
    "a"
   ]
  },
  {
   "cell_type": "code",
   "execution_count": 161,
   "id": "4651edc2",
   "metadata": {},
   "outputs": [
    {
     "data": {
      "text/plain": [
       "2"
      ]
     },
     "execution_count": 161,
     "metadata": {},
     "output_type": "execute_result"
    }
   ],
   "source": [
    "a.pop()"
   ]
  },
  {
   "cell_type": "code",
   "execution_count": 162,
   "id": "aa56809c",
   "metadata": {},
   "outputs": [
    {
     "data": {
      "text/plain": [
       "2"
      ]
     },
     "execution_count": 162,
     "metadata": {},
     "output_type": "execute_result"
    }
   ],
   "source": [
    "a=[1,2,3]\n",
    "a.pop(1)"
   ]
  },
  {
   "cell_type": "code",
   "execution_count": 163,
   "id": "23de683a",
   "metadata": {},
   "outputs": [
    {
     "data": {
      "text/plain": [
       "[1, 3]"
      ]
     },
     "execution_count": 163,
     "metadata": {},
     "output_type": "execute_result"
    }
   ],
   "source": [
    "a"
   ]
  },
  {
   "cell_type": "code",
   "execution_count": 166,
   "id": "de31e84e",
   "metadata": {},
   "outputs": [
    {
     "name": "stdout",
     "output_type": "stream",
     "text": [
      "[1, 2, 3, 4]\n",
      "[1, 2, 3, 4]\n"
     ]
    }
   ],
   "source": [
    "a1 = [1,2]; a2 = [3,4]\n",
    "new1 = a1+a2 ; print(new1)\n",
    "new2 = a1.extend(a2); print(a1)"
   ]
  },
  {
   "cell_type": "markdown",
   "id": "4c1e032b",
   "metadata": {},
   "source": [
    "# 딕셔너리"
   ]
  },
  {
   "cell_type": "code",
   "execution_count": 169,
   "id": "bdf6c807",
   "metadata": {},
   "outputs": [],
   "source": [
    "my_dic1={}"
   ]
  },
  {
   "cell_type": "code",
   "execution_count": 170,
   "id": "3776cdfe",
   "metadata": {},
   "outputs": [],
   "source": [
    "my_dic1[\"banana\"]=\"노랗고 달콤한 과일\""
   ]
  },
  {
   "cell_type": "code",
   "execution_count": 172,
   "id": "ed31fa65",
   "metadata": {},
   "outputs": [],
   "source": [
    "my_dic1[\"strawberry\"]=\"새콤 달콤 빨간 과일\""
   ]
  },
  {
   "cell_type": "code",
   "execution_count": 173,
   "id": "80d6e456",
   "metadata": {},
   "outputs": [
    {
     "data": {
      "text/plain": [
       "{'banana': '노랗고 달콤한 과일', 'strawberry': '새콤 달콤 빨간 과일'}"
      ]
     },
     "execution_count": 173,
     "metadata": {},
     "output_type": "execute_result"
    }
   ],
   "source": [
    "my_dic1"
   ]
  },
  {
   "cell_type": "code",
   "execution_count": 174,
   "id": "e9efbda2",
   "metadata": {},
   "outputs": [],
   "source": [
    "del my_dic1[\"banana\"]\n",
    "#del my_dic1[0]"
   ]
  },
  {
   "cell_type": "code",
   "execution_count": 175,
   "id": "ffd2750b",
   "metadata": {},
   "outputs": [
    {
     "data": {
      "text/plain": [
       "{'strawberry': '새콤 달콤 빨간 과일'}"
      ]
     },
     "execution_count": 175,
     "metadata": {},
     "output_type": "execute_result"
    }
   ],
   "source": [
    "my_dic1"
   ]
  },
  {
   "cell_type": "code",
   "execution_count": 176,
   "id": "5fbaa610",
   "metadata": {},
   "outputs": [
    {
     "data": {
      "text/plain": [
       "{'strawberry': '새콤 달콤 빨간 과일', 'banana': '노랗고 달콤한 과일'}"
      ]
     },
     "execution_count": 176,
     "metadata": {},
     "output_type": "execute_result"
    }
   ],
   "source": [
    "my_dic1[\"banana\"]=\"노랗고 달콤한 과일\"\n",
    "my_dic1"
   ]
  },
  {
   "cell_type": "code",
   "execution_count": 177,
   "id": "9895f123",
   "metadata": {
    "scrolled": true
   },
   "outputs": [
    {
     "data": {
      "text/plain": [
       "dict_keys(['strawberry', 'banana'])"
      ]
     },
     "execution_count": 177,
     "metadata": {},
     "output_type": "execute_result"
    }
   ],
   "source": [
    "my_dic1.keys()"
   ]
  },
  {
   "cell_type": "code",
   "execution_count": 178,
   "id": "9440e72c",
   "metadata": {},
   "outputs": [
    {
     "data": {
      "text/plain": [
       "{'strawberry': '새콤 달콤 빨간 과일', 'banana': '노랗고 달콤한 과일2'}"
      ]
     },
     "execution_count": 178,
     "metadata": {},
     "output_type": "execute_result"
    }
   ],
   "source": [
    "my_dic1[\"banana\"]=\"노랗고 달콤한 과일2\"\n",
    "my_dic1"
   ]
  },
  {
   "cell_type": "code",
   "execution_count": null,
   "id": "bc85d626",
   "metadata": {},
   "outputs": [],
   "source": []
  }
 ],
 "metadata": {
  "kernelspec": {
   "display_name": "Python 3",
   "language": "python",
   "name": "python3"
  },
  "language_info": {
   "codemirror_mode": {
    "name": "ipython",
    "version": 3
   },
   "file_extension": ".py",
   "mimetype": "text/x-python",
   "name": "python",
   "nbconvert_exporter": "python",
   "pygments_lexer": "ipython3",
   "version": "3.8.10"
  }
 },
 "nbformat": 4,
 "nbformat_minor": 5
}

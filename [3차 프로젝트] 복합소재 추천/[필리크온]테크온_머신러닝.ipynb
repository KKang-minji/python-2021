{
 "cells": [
  {
   "cell_type": "code",
   "execution_count": 1,
   "metadata": {},
   "outputs": [],
   "source": [
    "import pandas as pd # DataFrame 을 위한 모듈\n",
    "import numpy as np # arrange \n",
    "import matplotlib.pyplot as plt\n",
    "import seaborn as sns\n",
    "from sklearn.model_selection import train_test_split "
   ]
  },
  {
   "cell_type": "code",
   "execution_count": 2,
   "metadata": {
    "scrolled": false
   },
   "outputs": [
    {
     "data": {
      "text/html": [
       "<div>\n",
       "<style scoped>\n",
       "    .dataframe tbody tr th:only-of-type {\n",
       "        vertical-align: middle;\n",
       "    }\n",
       "\n",
       "    .dataframe tbody tr th {\n",
       "        vertical-align: top;\n",
       "    }\n",
       "\n",
       "    .dataframe thead th {\n",
       "        text-align: right;\n",
       "    }\n",
       "</style>\n",
       "<table border=\"1\" class=\"dataframe\">\n",
       "  <thead>\n",
       "    <tr style=\"text-align: right;\">\n",
       "      <th></th>\n",
       "      <th>제품군</th>\n",
       "      <th>특징</th>\n",
       "      <th>용도</th>\n",
       "      <th>수지종류</th>\n",
       "      <th>비중(Specific Gravity)</th>\n",
       "      <th>인장강도</th>\n",
       "      <th>파단강도</th>\n",
       "      <th>신율\\n(%)</th>\n",
       "      <th>굴곡강도</th>\n",
       "      <th>굴곡 탄성률</th>\n",
       "      <th>인장탄성율(Mpa)</th>\n",
       "    </tr>\n",
       "  </thead>\n",
       "  <tbody>\n",
       "    <tr>\n",
       "      <th>0</th>\n",
       "      <td>LUCON PS6072</td>\n",
       "      <td>전기전도성</td>\n",
       "      <td>ATM 부품, ESS, LCD Cell tray, Vacuum Cleaner, Ai...</td>\n",
       "      <td>ABS</td>\n",
       "      <td>1.06</td>\n",
       "      <td>45.00</td>\n",
       "      <td>NaN</td>\n",
       "      <td>7.0</td>\n",
       "      <td>75.00</td>\n",
       "      <td>2500.0</td>\n",
       "      <td>NaN</td>\n",
       "    </tr>\n",
       "    <tr>\n",
       "      <th>1</th>\n",
       "      <td>LUPOY GP1004MU</td>\n",
       "      <td>난연</td>\n",
       "      <td>자동차 내장재, 휴대폰, TV, 노트북 등</td>\n",
       "      <td>ABS</td>\n",
       "      <td>1.20</td>\n",
       "      <td>58.80</td>\n",
       "      <td>NaN</td>\n",
       "      <td>100.0</td>\n",
       "      <td>88.20</td>\n",
       "      <td>2156.0</td>\n",
       "      <td>NaN</td>\n",
       "    </tr>\n",
       "    <tr>\n",
       "      <th>2</th>\n",
       "      <td>LUPOY GP5008A</td>\n",
       "      <td>일반, 비보강</td>\n",
       "      <td>자동차 내/외장재, 휴대폰, TV, 노트북 등</td>\n",
       "      <td>ABS</td>\n",
       "      <td>1.10</td>\n",
       "      <td>39.20</td>\n",
       "      <td>NaN</td>\n",
       "      <td>NaN</td>\n",
       "      <td>59.78</td>\n",
       "      <td>1666.0</td>\n",
       "      <td>NaN</td>\n",
       "    </tr>\n",
       "    <tr>\n",
       "      <th>3</th>\n",
       "      <td>LUPOY HI5002A</td>\n",
       "      <td>일반, 비보강</td>\n",
       "      <td>자동차 내/외장재, 휴대폰, TV, 노트북 등</td>\n",
       "      <td>ABS</td>\n",
       "      <td>1.11</td>\n",
       "      <td>54.88</td>\n",
       "      <td>NaN</td>\n",
       "      <td>70.0</td>\n",
       "      <td>84.28</td>\n",
       "      <td>2058.0</td>\n",
       "      <td>NaN</td>\n",
       "    </tr>\n",
       "    <tr>\n",
       "      <th>4</th>\n",
       "      <td>LUPOY HR5006A</td>\n",
       "      <td>내충격, 고내열, 비보강</td>\n",
       "      <td>자동차 내/외장재, 휴대폰, TV, 노트북 등</td>\n",
       "      <td>ABS</td>\n",
       "      <td>1.13</td>\n",
       "      <td>52.92</td>\n",
       "      <td>NaN</td>\n",
       "      <td>110.0</td>\n",
       "      <td>83.30</td>\n",
       "      <td>2205.0</td>\n",
       "      <td>NaN</td>\n",
       "    </tr>\n",
       "    <tr>\n",
       "      <th>...</th>\n",
       "      <td>...</td>\n",
       "      <td>...</td>\n",
       "      <td>...</td>\n",
       "      <td>...</td>\n",
       "      <td>...</td>\n",
       "      <td>...</td>\n",
       "      <td>...</td>\n",
       "      <td>...</td>\n",
       "      <td>...</td>\n",
       "      <td>...</td>\n",
       "      <td>...</td>\n",
       "    </tr>\n",
       "    <tr>\n",
       "      <th>657</th>\n",
       "      <td>AE-3063I</td>\n",
       "      <td>일반</td>\n",
       "      <td>자동차</td>\n",
       "      <td>PC</td>\n",
       "      <td>1.20</td>\n",
       "      <td>50.00</td>\n",
       "      <td>48.0</td>\n",
       "      <td>120.0</td>\n",
       "      <td>67.00</td>\n",
       "      <td>1800.0</td>\n",
       "      <td>1600.0</td>\n",
       "    </tr>\n",
       "    <tr>\n",
       "      <th>658</th>\n",
       "      <td>AE-2030</td>\n",
       "      <td>일반</td>\n",
       "      <td>Automotive</td>\n",
       "      <td>PC</td>\n",
       "      <td>1.20</td>\n",
       "      <td>54.00</td>\n",
       "      <td>52.0</td>\n",
       "      <td>100.0</td>\n",
       "      <td>80.00</td>\n",
       "      <td>2200.0</td>\n",
       "      <td>2100.0</td>\n",
       "    </tr>\n",
       "    <tr>\n",
       "      <th>659</th>\n",
       "      <td>AE-2130</td>\n",
       "      <td>일반</td>\n",
       "      <td>Automotive</td>\n",
       "      <td>PC</td>\n",
       "      <td>1.23</td>\n",
       "      <td>56.00</td>\n",
       "      <td>55.0</td>\n",
       "      <td>90.0</td>\n",
       "      <td>82.00</td>\n",
       "      <td>2400.0</td>\n",
       "      <td>2400.0</td>\n",
       "    </tr>\n",
       "    <tr>\n",
       "      <th>660</th>\n",
       "      <td>AE-2150</td>\n",
       "      <td>일반</td>\n",
       "      <td>Automotive</td>\n",
       "      <td>PC</td>\n",
       "      <td>1.33</td>\n",
       "      <td>63.00</td>\n",
       "      <td>58.0</td>\n",
       "      <td>4.0</td>\n",
       "      <td>100.00</td>\n",
       "      <td>4000.0</td>\n",
       "      <td>3800.0</td>\n",
       "    </tr>\n",
       "    <tr>\n",
       "      <th>661</th>\n",
       "      <td>AE-2230</td>\n",
       "      <td>일반</td>\n",
       "      <td>자동차</td>\n",
       "      <td>PC</td>\n",
       "      <td>1.35</td>\n",
       "      <td>55.00</td>\n",
       "      <td>61.0</td>\n",
       "      <td>7.0</td>\n",
       "      <td>90.00</td>\n",
       "      <td>3900.0</td>\n",
       "      <td>4000.0</td>\n",
       "    </tr>\n",
       "  </tbody>\n",
       "</table>\n",
       "<p>662 rows × 11 columns</p>\n",
       "</div>"
      ],
      "text/plain": [
       "                제품군             특징  \\\n",
       "0      LUCON PS6072          전기전도성   \n",
       "1    LUPOY GP1004MU             난연   \n",
       "2     LUPOY GP5008A        일반, 비보강   \n",
       "3     LUPOY HI5002A        일반, 비보강   \n",
       "4     LUPOY HR5006A  내충격, 고내열, 비보강   \n",
       "..              ...            ...   \n",
       "657        AE-3063I             일반   \n",
       "658         AE-2030             일반   \n",
       "659         AE-2130             일반   \n",
       "660         AE-2150             일반   \n",
       "661         AE-2230             일반   \n",
       "\n",
       "                                                    용도 수지종류  \\\n",
       "0    ATM 부품, ESS, LCD Cell tray, Vacuum Cleaner, Ai...  ABS   \n",
       "1                              자동차 내장재, 휴대폰, TV, 노트북 등  ABS   \n",
       "2                            자동차 내/외장재, 휴대폰, TV, 노트북 등  ABS   \n",
       "3                            자동차 내/외장재, 휴대폰, TV, 노트북 등  ABS   \n",
       "4                            자동차 내/외장재, 휴대폰, TV, 노트북 등  ABS   \n",
       "..                                                 ...  ...   \n",
       "657                                                자동차   PC   \n",
       "658                                         Automotive   PC   \n",
       "659                                         Automotive   PC   \n",
       "660                                         Automotive   PC   \n",
       "661                                                자동차   PC   \n",
       "\n",
       "     비중(Specific Gravity)   인장강도  파단강도  신율\\n(%)    굴곡강도  굴곡 탄성률  인장탄성율(Mpa)  \n",
       "0                    1.06  45.00   NaN      7.0   75.00  2500.0         NaN  \n",
       "1                    1.20  58.80   NaN    100.0   88.20  2156.0         NaN  \n",
       "2                    1.10  39.20   NaN      NaN   59.78  1666.0         NaN  \n",
       "3                    1.11  54.88   NaN     70.0   84.28  2058.0         NaN  \n",
       "4                    1.13  52.92   NaN    110.0   83.30  2205.0         NaN  \n",
       "..                    ...    ...   ...      ...     ...     ...         ...  \n",
       "657                  1.20  50.00  48.0    120.0   67.00  1800.0      1600.0  \n",
       "658                  1.20  54.00  52.0    100.0   80.00  2200.0      2100.0  \n",
       "659                  1.23  56.00  55.0     90.0   82.00  2400.0      2400.0  \n",
       "660                  1.33  63.00  58.0      4.0  100.00  4000.0      3800.0  \n",
       "661                  1.35  55.00  61.0      7.0   90.00  3900.0      4000.0  \n",
       "\n",
       "[662 rows x 11 columns]"
      ]
     },
     "execution_count": 2,
     "metadata": {},
     "output_type": "execute_result"
    }
   ],
   "source": [
    "ta = pd.read_csv(\"테크온_전처리.csv\", encoding=\"cp949\")\n",
    "ta"
   ]
  },
  {
   "cell_type": "code",
   "execution_count": 3,
   "metadata": {},
   "outputs": [
    {
     "data": {
      "text/html": [
       "<div>\n",
       "<style scoped>\n",
       "    .dataframe tbody tr th:only-of-type {\n",
       "        vertical-align: middle;\n",
       "    }\n",
       "\n",
       "    .dataframe tbody tr th {\n",
       "        vertical-align: top;\n",
       "    }\n",
       "\n",
       "    .dataframe thead th {\n",
       "        text-align: right;\n",
       "    }\n",
       "</style>\n",
       "<table border=\"1\" class=\"dataframe\">\n",
       "  <thead>\n",
       "    <tr style=\"text-align: right;\">\n",
       "      <th></th>\n",
       "      <th>수지종류</th>\n",
       "      <th>비중(Specific Gravity)</th>\n",
       "      <th>인장강도</th>\n",
       "      <th>파단강도</th>\n",
       "      <th>신율\\n(%)</th>\n",
       "      <th>굴곡강도</th>\n",
       "      <th>굴곡 탄성률</th>\n",
       "    </tr>\n",
       "  </thead>\n",
       "  <tbody>\n",
       "    <tr>\n",
       "      <th>0</th>\n",
       "      <td>ABS</td>\n",
       "      <td>1.06</td>\n",
       "      <td>45.00</td>\n",
       "      <td>NaN</td>\n",
       "      <td>7.0</td>\n",
       "      <td>75.00</td>\n",
       "      <td>2500.0</td>\n",
       "    </tr>\n",
       "    <tr>\n",
       "      <th>1</th>\n",
       "      <td>ABS</td>\n",
       "      <td>1.20</td>\n",
       "      <td>58.80</td>\n",
       "      <td>NaN</td>\n",
       "      <td>100.0</td>\n",
       "      <td>88.20</td>\n",
       "      <td>2156.0</td>\n",
       "    </tr>\n",
       "    <tr>\n",
       "      <th>2</th>\n",
       "      <td>ABS</td>\n",
       "      <td>1.10</td>\n",
       "      <td>39.20</td>\n",
       "      <td>NaN</td>\n",
       "      <td>NaN</td>\n",
       "      <td>59.78</td>\n",
       "      <td>1666.0</td>\n",
       "    </tr>\n",
       "    <tr>\n",
       "      <th>3</th>\n",
       "      <td>ABS</td>\n",
       "      <td>1.11</td>\n",
       "      <td>54.88</td>\n",
       "      <td>NaN</td>\n",
       "      <td>70.0</td>\n",
       "      <td>84.28</td>\n",
       "      <td>2058.0</td>\n",
       "    </tr>\n",
       "    <tr>\n",
       "      <th>4</th>\n",
       "      <td>ABS</td>\n",
       "      <td>1.13</td>\n",
       "      <td>52.92</td>\n",
       "      <td>NaN</td>\n",
       "      <td>110.0</td>\n",
       "      <td>83.30</td>\n",
       "      <td>2205.0</td>\n",
       "    </tr>\n",
       "    <tr>\n",
       "      <th>...</th>\n",
       "      <td>...</td>\n",
       "      <td>...</td>\n",
       "      <td>...</td>\n",
       "      <td>...</td>\n",
       "      <td>...</td>\n",
       "      <td>...</td>\n",
       "      <td>...</td>\n",
       "    </tr>\n",
       "    <tr>\n",
       "      <th>657</th>\n",
       "      <td>PC</td>\n",
       "      <td>1.20</td>\n",
       "      <td>50.00</td>\n",
       "      <td>48.0</td>\n",
       "      <td>120.0</td>\n",
       "      <td>67.00</td>\n",
       "      <td>1800.0</td>\n",
       "    </tr>\n",
       "    <tr>\n",
       "      <th>658</th>\n",
       "      <td>PC</td>\n",
       "      <td>1.20</td>\n",
       "      <td>54.00</td>\n",
       "      <td>52.0</td>\n",
       "      <td>100.0</td>\n",
       "      <td>80.00</td>\n",
       "      <td>2200.0</td>\n",
       "    </tr>\n",
       "    <tr>\n",
       "      <th>659</th>\n",
       "      <td>PC</td>\n",
       "      <td>1.23</td>\n",
       "      <td>56.00</td>\n",
       "      <td>55.0</td>\n",
       "      <td>90.0</td>\n",
       "      <td>82.00</td>\n",
       "      <td>2400.0</td>\n",
       "    </tr>\n",
       "    <tr>\n",
       "      <th>660</th>\n",
       "      <td>PC</td>\n",
       "      <td>1.33</td>\n",
       "      <td>63.00</td>\n",
       "      <td>58.0</td>\n",
       "      <td>4.0</td>\n",
       "      <td>100.00</td>\n",
       "      <td>4000.0</td>\n",
       "    </tr>\n",
       "    <tr>\n",
       "      <th>661</th>\n",
       "      <td>PC</td>\n",
       "      <td>1.35</td>\n",
       "      <td>55.00</td>\n",
       "      <td>61.0</td>\n",
       "      <td>7.0</td>\n",
       "      <td>90.00</td>\n",
       "      <td>3900.0</td>\n",
       "    </tr>\n",
       "  </tbody>\n",
       "</table>\n",
       "<p>662 rows × 7 columns</p>\n",
       "</div>"
      ],
      "text/plain": [
       "    수지종류  비중(Specific Gravity)   인장강도  파단강도  신율\\n(%)    굴곡강도  굴곡 탄성률\n",
       "0    ABS                  1.06  45.00   NaN      7.0   75.00  2500.0\n",
       "1    ABS                  1.20  58.80   NaN    100.0   88.20  2156.0\n",
       "2    ABS                  1.10  39.20   NaN      NaN   59.78  1666.0\n",
       "3    ABS                  1.11  54.88   NaN     70.0   84.28  2058.0\n",
       "4    ABS                  1.13  52.92   NaN    110.0   83.30  2205.0\n",
       "..   ...                   ...    ...   ...      ...     ...     ...\n",
       "657   PC                  1.20  50.00  48.0    120.0   67.00  1800.0\n",
       "658   PC                  1.20  54.00  52.0    100.0   80.00  2200.0\n",
       "659   PC                  1.23  56.00  55.0     90.0   82.00  2400.0\n",
       "660   PC                  1.33  63.00  58.0      4.0  100.00  4000.0\n",
       "661   PC                  1.35  55.00  61.0      7.0   90.00  3900.0\n",
       "\n",
       "[662 rows x 7 columns]"
      ]
     },
     "execution_count": 3,
     "metadata": {},
     "output_type": "execute_result"
    }
   ],
   "source": [
    "df_0 = ta.iloc[:,3:10]  # 기존 ta데이터에서 학습시키기위해 세부와 각 수치만을 뽑음\n",
    "df_0"
   ]
  },
  {
   "cell_type": "markdown",
   "metadata": {},
   "source": [
    "### 학습시키기 위해 결측값 0으로 채우기\n",
    "### X,y로 나눠 진행"
   ]
  },
  {
   "cell_type": "code",
   "execution_count": 4,
   "metadata": {},
   "outputs": [],
   "source": [
    "df_0 = df_0.fillna(0) "
   ]
  },
  {
   "cell_type": "code",
   "execution_count": 5,
   "metadata": {},
   "outputs": [
    {
     "data": {
      "text/html": [
       "<div>\n",
       "<style scoped>\n",
       "    .dataframe tbody tr th:only-of-type {\n",
       "        vertical-align: middle;\n",
       "    }\n",
       "\n",
       "    .dataframe tbody tr th {\n",
       "        vertical-align: top;\n",
       "    }\n",
       "\n",
       "    .dataframe thead th {\n",
       "        text-align: right;\n",
       "    }\n",
       "</style>\n",
       "<table border=\"1\" class=\"dataframe\">\n",
       "  <thead>\n",
       "    <tr style=\"text-align: right;\">\n",
       "      <th></th>\n",
       "      <th>비중(Specific Gravity)</th>\n",
       "      <th>인장강도</th>\n",
       "      <th>파단강도</th>\n",
       "      <th>신율\\n(%)</th>\n",
       "      <th>굴곡강도</th>\n",
       "      <th>굴곡 탄성률</th>\n",
       "    </tr>\n",
       "  </thead>\n",
       "  <tbody>\n",
       "    <tr>\n",
       "      <th>0</th>\n",
       "      <td>1.06</td>\n",
       "      <td>45.00</td>\n",
       "      <td>0.0</td>\n",
       "      <td>7.0</td>\n",
       "      <td>75.00</td>\n",
       "      <td>2500.0</td>\n",
       "    </tr>\n",
       "    <tr>\n",
       "      <th>1</th>\n",
       "      <td>1.20</td>\n",
       "      <td>58.80</td>\n",
       "      <td>0.0</td>\n",
       "      <td>100.0</td>\n",
       "      <td>88.20</td>\n",
       "      <td>2156.0</td>\n",
       "    </tr>\n",
       "    <tr>\n",
       "      <th>2</th>\n",
       "      <td>1.10</td>\n",
       "      <td>39.20</td>\n",
       "      <td>0.0</td>\n",
       "      <td>0.0</td>\n",
       "      <td>59.78</td>\n",
       "      <td>1666.0</td>\n",
       "    </tr>\n",
       "    <tr>\n",
       "      <th>3</th>\n",
       "      <td>1.11</td>\n",
       "      <td>54.88</td>\n",
       "      <td>0.0</td>\n",
       "      <td>70.0</td>\n",
       "      <td>84.28</td>\n",
       "      <td>2058.0</td>\n",
       "    </tr>\n",
       "    <tr>\n",
       "      <th>4</th>\n",
       "      <td>1.13</td>\n",
       "      <td>52.92</td>\n",
       "      <td>0.0</td>\n",
       "      <td>110.0</td>\n",
       "      <td>83.30</td>\n",
       "      <td>2205.0</td>\n",
       "    </tr>\n",
       "    <tr>\n",
       "      <th>...</th>\n",
       "      <td>...</td>\n",
       "      <td>...</td>\n",
       "      <td>...</td>\n",
       "      <td>...</td>\n",
       "      <td>...</td>\n",
       "      <td>...</td>\n",
       "    </tr>\n",
       "    <tr>\n",
       "      <th>657</th>\n",
       "      <td>1.20</td>\n",
       "      <td>50.00</td>\n",
       "      <td>48.0</td>\n",
       "      <td>120.0</td>\n",
       "      <td>67.00</td>\n",
       "      <td>1800.0</td>\n",
       "    </tr>\n",
       "    <tr>\n",
       "      <th>658</th>\n",
       "      <td>1.20</td>\n",
       "      <td>54.00</td>\n",
       "      <td>52.0</td>\n",
       "      <td>100.0</td>\n",
       "      <td>80.00</td>\n",
       "      <td>2200.0</td>\n",
       "    </tr>\n",
       "    <tr>\n",
       "      <th>659</th>\n",
       "      <td>1.23</td>\n",
       "      <td>56.00</td>\n",
       "      <td>55.0</td>\n",
       "      <td>90.0</td>\n",
       "      <td>82.00</td>\n",
       "      <td>2400.0</td>\n",
       "    </tr>\n",
       "    <tr>\n",
       "      <th>660</th>\n",
       "      <td>1.33</td>\n",
       "      <td>63.00</td>\n",
       "      <td>58.0</td>\n",
       "      <td>4.0</td>\n",
       "      <td>100.00</td>\n",
       "      <td>4000.0</td>\n",
       "    </tr>\n",
       "    <tr>\n",
       "      <th>661</th>\n",
       "      <td>1.35</td>\n",
       "      <td>55.00</td>\n",
       "      <td>61.0</td>\n",
       "      <td>7.0</td>\n",
       "      <td>90.00</td>\n",
       "      <td>3900.0</td>\n",
       "    </tr>\n",
       "  </tbody>\n",
       "</table>\n",
       "<p>662 rows × 6 columns</p>\n",
       "</div>"
      ],
      "text/plain": [
       "     비중(Specific Gravity)   인장강도  파단강도  신율\\n(%)    굴곡강도  굴곡 탄성률\n",
       "0                    1.06  45.00   0.0      7.0   75.00  2500.0\n",
       "1                    1.20  58.80   0.0    100.0   88.20  2156.0\n",
       "2                    1.10  39.20   0.0      0.0   59.78  1666.0\n",
       "3                    1.11  54.88   0.0     70.0   84.28  2058.0\n",
       "4                    1.13  52.92   0.0    110.0   83.30  2205.0\n",
       "..                    ...    ...   ...      ...     ...     ...\n",
       "657                  1.20  50.00  48.0    120.0   67.00  1800.0\n",
       "658                  1.20  54.00  52.0    100.0   80.00  2200.0\n",
       "659                  1.23  56.00  55.0     90.0   82.00  2400.0\n",
       "660                  1.33  63.00  58.0      4.0  100.00  4000.0\n",
       "661                  1.35  55.00  61.0      7.0   90.00  3900.0\n",
       "\n",
       "[662 rows x 6 columns]"
      ]
     },
     "execution_count": 5,
     "metadata": {},
     "output_type": "execute_result"
    }
   ],
   "source": [
    "X = df_0.iloc[:,1:7]\n",
    "X"
   ]
  },
  {
   "cell_type": "code",
   "execution_count": 6,
   "metadata": {
    "scrolled": true
   },
   "outputs": [
    {
     "data": {
      "text/plain": [
       "0      ABS\n",
       "1      ABS\n",
       "2      ABS\n",
       "3      ABS\n",
       "4      ABS\n",
       "      ... \n",
       "657     PC\n",
       "658     PC\n",
       "659     PC\n",
       "660     PC\n",
       "661     PC\n",
       "Name: 수지종류, Length: 662, dtype: object"
      ]
     },
     "execution_count": 6,
     "metadata": {},
     "output_type": "execute_result"
    }
   ],
   "source": [
    "y = df_0[\"수지종류\"]\n",
    "y"
   ]
  },
  {
   "cell_type": "markdown",
   "metadata": {},
   "source": [
    "### 학습시킬 데이터 x,y 나누기"
   ]
  },
  {
   "cell_type": "code",
   "execution_count": 7,
   "metadata": {},
   "outputs": [],
   "source": [
    "X_train, X_test, y_train, y_test = train_test_split(X, y, random_state=0) "
   ]
  },
  {
   "cell_type": "markdown",
   "metadata": {},
   "source": [
    "## KNeighborsClassifier 머신러닝"
   ]
  },
  {
   "cell_type": "code",
   "execution_count": 8,
   "metadata": {},
   "outputs": [],
   "source": [
    "from sklearn.neighbors import KNeighborsClassifier"
   ]
  },
  {
   "cell_type": "code",
   "execution_count": 9,
   "metadata": {},
   "outputs": [
    {
     "data": {
      "text/plain": [
       "0.5180722891566265"
      ]
     },
     "execution_count": 9,
     "metadata": {},
     "output_type": "execute_result"
    }
   ],
   "source": [
    "knn = KNeighborsClassifier(n_neighbors=5)\n",
    "knn.fit(X_train,y_train)\n",
    "knn.score(X_test, y_test)"
   ]
  },
  {
   "cell_type": "markdown",
   "metadata": {},
   "source": [
    "### 최근값을 5로 잡았을 때 가장 높은 score값 \n",
    "### 과적합이 될 수 있음"
   ]
  },
  {
   "cell_type": "markdown",
   "metadata": {},
   "source": [
    "## LogisticRegression 머신러닝"
   ]
  },
  {
   "cell_type": "code",
   "execution_count": 10,
   "metadata": {
    "scrolled": true
   },
   "outputs": [],
   "source": [
    "from sklearn.linear_model import LogisticRegression"
   ]
  },
  {
   "cell_type": "code",
   "execution_count": 11,
   "metadata": {
    "scrolled": true
   },
   "outputs": [
    {
     "name": "stderr",
     "output_type": "stream",
     "text": [
      "C:\\Users\\CPB06GameN\\anaconda3\\lib\\site-packages\\sklearn\\linear_model\\_logistic.py:763: ConvergenceWarning: lbfgs failed to converge (status=1):\n",
      "STOP: TOTAL NO. of ITERATIONS REACHED LIMIT.\n",
      "\n",
      "Increase the number of iterations (max_iter) or scale the data as shown in:\n",
      "    https://scikit-learn.org/stable/modules/preprocessing.html\n",
      "Please also refer to the documentation for alternative solver options:\n",
      "    https://scikit-learn.org/stable/modules/linear_model.html#logistic-regression\n",
      "  n_iter_i = _check_optimize_result(\n"
     ]
    },
    {
     "data": {
      "text/plain": [
       "0.5180722891566265"
      ]
     },
     "execution_count": 11,
     "metadata": {},
     "output_type": "execute_result"
    }
   ],
   "source": [
    "lr = LogisticRegression(max_iter=1500)\n",
    "lr.fit(X_train, y_train)\n",
    "lr.score(X_test, y_test)"
   ]
  },
  {
   "cell_type": "markdown",
   "metadata": {},
   "source": [
    "## MLPClassifier 머신러닝 "
   ]
  },
  {
   "cell_type": "code",
   "execution_count": 12,
   "metadata": {},
   "outputs": [
    {
     "data": {
      "text/plain": [
       "0.46987951807228917"
      ]
     },
     "execution_count": 12,
     "metadata": {},
     "output_type": "execute_result"
    }
   ],
   "source": [
    "from sklearn.neural_network import MLPClassifier\n",
    "mlp = MLPClassifier(random_state=0)\n",
    "mlp.fit(X_train, y_train)\n",
    "mlp.score(X_test, y_test)"
   ]
  },
  {
   "cell_type": "markdown",
   "metadata": {},
   "source": [
    "## DecisionTreeClassifier 머신러닝"
   ]
  },
  {
   "cell_type": "code",
   "execution_count": 13,
   "metadata": {},
   "outputs": [
    {
     "data": {
      "text/plain": [
       "0.4819277108433735"
      ]
     },
     "execution_count": 13,
     "metadata": {},
     "output_type": "execute_result"
    }
   ],
   "source": [
    "from sklearn.tree import DecisionTreeClassifier\n",
    "tree = DecisionTreeClassifier(random_state=0)\n",
    "tree.fit(X_train, y_train)\n",
    "tree.score(X_test, y_test)"
   ]
  },
  {
   "cell_type": "markdown",
   "metadata": {},
   "source": [
    "# 결론 : 결측치를 0으로 대체했을 때 학습능력이 많이 떨어진다.\n",
    "# 따라서 다른 값으로 대체해야할 필요성을 느낌"
   ]
  },
  {
   "cell_type": "markdown",
   "metadata": {},
   "source": [
    "# ---------------------------------"
   ]
  },
  {
   "cell_type": "markdown",
   "metadata": {},
   "source": [
    "## 결측치를 평균 값으로 대체해서 학습"
   ]
  },
  {
   "cell_type": "code",
   "execution_count": 14,
   "metadata": {
    "scrolled": true
   },
   "outputs": [
    {
     "data": {
      "text/html": [
       "<div>\n",
       "<style scoped>\n",
       "    .dataframe tbody tr th:only-of-type {\n",
       "        vertical-align: middle;\n",
       "    }\n",
       "\n",
       "    .dataframe tbody tr th {\n",
       "        vertical-align: top;\n",
       "    }\n",
       "\n",
       "    .dataframe thead th {\n",
       "        text-align: right;\n",
       "    }\n",
       "</style>\n",
       "<table border=\"1\" class=\"dataframe\">\n",
       "  <thead>\n",
       "    <tr style=\"text-align: right;\">\n",
       "      <th></th>\n",
       "      <th>수지종류</th>\n",
       "      <th>비중(Specific Gravity)</th>\n",
       "      <th>인장강도</th>\n",
       "      <th>파단강도</th>\n",
       "      <th>신율\\n(%)</th>\n",
       "      <th>굴곡강도</th>\n",
       "      <th>굴곡 탄성률</th>\n",
       "      <th>인장탄성율(Mpa)</th>\n",
       "    </tr>\n",
       "  </thead>\n",
       "  <tbody>\n",
       "    <tr>\n",
       "      <th>0</th>\n",
       "      <td>ABS</td>\n",
       "      <td>1.06</td>\n",
       "      <td>45.00</td>\n",
       "      <td>NaN</td>\n",
       "      <td>7.0</td>\n",
       "      <td>75.00</td>\n",
       "      <td>2500.0</td>\n",
       "      <td>NaN</td>\n",
       "    </tr>\n",
       "    <tr>\n",
       "      <th>1</th>\n",
       "      <td>ABS</td>\n",
       "      <td>1.20</td>\n",
       "      <td>58.80</td>\n",
       "      <td>NaN</td>\n",
       "      <td>100.0</td>\n",
       "      <td>88.20</td>\n",
       "      <td>2156.0</td>\n",
       "      <td>NaN</td>\n",
       "    </tr>\n",
       "    <tr>\n",
       "      <th>2</th>\n",
       "      <td>ABS</td>\n",
       "      <td>1.10</td>\n",
       "      <td>39.20</td>\n",
       "      <td>NaN</td>\n",
       "      <td>NaN</td>\n",
       "      <td>59.78</td>\n",
       "      <td>1666.0</td>\n",
       "      <td>NaN</td>\n",
       "    </tr>\n",
       "    <tr>\n",
       "      <th>3</th>\n",
       "      <td>ABS</td>\n",
       "      <td>1.11</td>\n",
       "      <td>54.88</td>\n",
       "      <td>NaN</td>\n",
       "      <td>70.0</td>\n",
       "      <td>84.28</td>\n",
       "      <td>2058.0</td>\n",
       "      <td>NaN</td>\n",
       "    </tr>\n",
       "    <tr>\n",
       "      <th>4</th>\n",
       "      <td>ABS</td>\n",
       "      <td>1.13</td>\n",
       "      <td>52.92</td>\n",
       "      <td>NaN</td>\n",
       "      <td>110.0</td>\n",
       "      <td>83.30</td>\n",
       "      <td>2205.0</td>\n",
       "      <td>NaN</td>\n",
       "    </tr>\n",
       "    <tr>\n",
       "      <th>...</th>\n",
       "      <td>...</td>\n",
       "      <td>...</td>\n",
       "      <td>...</td>\n",
       "      <td>...</td>\n",
       "      <td>...</td>\n",
       "      <td>...</td>\n",
       "      <td>...</td>\n",
       "      <td>...</td>\n",
       "    </tr>\n",
       "    <tr>\n",
       "      <th>657</th>\n",
       "      <td>PC</td>\n",
       "      <td>1.20</td>\n",
       "      <td>50.00</td>\n",
       "      <td>48.0</td>\n",
       "      <td>120.0</td>\n",
       "      <td>67.00</td>\n",
       "      <td>1800.0</td>\n",
       "      <td>1600.0</td>\n",
       "    </tr>\n",
       "    <tr>\n",
       "      <th>658</th>\n",
       "      <td>PC</td>\n",
       "      <td>1.20</td>\n",
       "      <td>54.00</td>\n",
       "      <td>52.0</td>\n",
       "      <td>100.0</td>\n",
       "      <td>80.00</td>\n",
       "      <td>2200.0</td>\n",
       "      <td>2100.0</td>\n",
       "    </tr>\n",
       "    <tr>\n",
       "      <th>659</th>\n",
       "      <td>PC</td>\n",
       "      <td>1.23</td>\n",
       "      <td>56.00</td>\n",
       "      <td>55.0</td>\n",
       "      <td>90.0</td>\n",
       "      <td>82.00</td>\n",
       "      <td>2400.0</td>\n",
       "      <td>2400.0</td>\n",
       "    </tr>\n",
       "    <tr>\n",
       "      <th>660</th>\n",
       "      <td>PC</td>\n",
       "      <td>1.33</td>\n",
       "      <td>63.00</td>\n",
       "      <td>58.0</td>\n",
       "      <td>4.0</td>\n",
       "      <td>100.00</td>\n",
       "      <td>4000.0</td>\n",
       "      <td>3800.0</td>\n",
       "    </tr>\n",
       "    <tr>\n",
       "      <th>661</th>\n",
       "      <td>PC</td>\n",
       "      <td>1.35</td>\n",
       "      <td>55.00</td>\n",
       "      <td>61.0</td>\n",
       "      <td>7.0</td>\n",
       "      <td>90.00</td>\n",
       "      <td>3900.0</td>\n",
       "      <td>4000.0</td>\n",
       "    </tr>\n",
       "  </tbody>\n",
       "</table>\n",
       "<p>662 rows × 8 columns</p>\n",
       "</div>"
      ],
      "text/plain": [
       "    수지종류  비중(Specific Gravity)   인장강도  파단강도  신율\\n(%)    굴곡강도  굴곡 탄성률  \\\n",
       "0    ABS                  1.06  45.00   NaN      7.0   75.00  2500.0   \n",
       "1    ABS                  1.20  58.80   NaN    100.0   88.20  2156.0   \n",
       "2    ABS                  1.10  39.20   NaN      NaN   59.78  1666.0   \n",
       "3    ABS                  1.11  54.88   NaN     70.0   84.28  2058.0   \n",
       "4    ABS                  1.13  52.92   NaN    110.0   83.30  2205.0   \n",
       "..   ...                   ...    ...   ...      ...     ...     ...   \n",
       "657   PC                  1.20  50.00  48.0    120.0   67.00  1800.0   \n",
       "658   PC                  1.20  54.00  52.0    100.0   80.00  2200.0   \n",
       "659   PC                  1.23  56.00  55.0     90.0   82.00  2400.0   \n",
       "660   PC                  1.33  63.00  58.0      4.0  100.00  4000.0   \n",
       "661   PC                  1.35  55.00  61.0      7.0   90.00  3900.0   \n",
       "\n",
       "     인장탄성율(Mpa)  \n",
       "0           NaN  \n",
       "1           NaN  \n",
       "2           NaN  \n",
       "3           NaN  \n",
       "4           NaN  \n",
       "..          ...  \n",
       "657      1600.0  \n",
       "658      2100.0  \n",
       "659      2400.0  \n",
       "660      3800.0  \n",
       "661      4000.0  \n",
       "\n",
       "[662 rows x 8 columns]"
      ]
     },
     "execution_count": 14,
     "metadata": {},
     "output_type": "execute_result"
    }
   ],
   "source": [
    "df = ta.iloc[:,3:11]  # 기존 ta데이터에서 학습시키기위해 세부와 각 수치만을 뽑음\n",
    "df"
   ]
  },
  {
   "cell_type": "code",
   "execution_count": 15,
   "metadata": {},
   "outputs": [],
   "source": [
    "temp1 = df['비중(Specific Gravity)'].sum()/662\n",
    "temp2 = df['인장강도'].sum()/662\n",
    "temp3 = df['파단강도'].sum()/662\n",
    "temp4 = df['굴곡강도'].sum()/662\n",
    "temp5 = df['굴곡 탄성률'].sum()/662\n",
    "temp6 = df['인장탄성율(Mpa)'].sum()/662\n",
    "temp7 = df['신율\\n(%)'].sum()/662"
   ]
  },
  {
   "cell_type": "code",
   "execution_count": 16,
   "metadata": {},
   "outputs": [],
   "source": [
    "df['비중(Specific Gravity)'] = df['비중(Specific Gravity)'].fillna(temp1)\n",
    "df['인장강도'] = df['인장강도'].fillna(temp2)\n",
    "df['파단강도'] = df['파단강도'].fillna(temp3)\n",
    "df['굴곡강도'] = df['굴곡강도'].fillna(temp4)\n",
    "df['굴곡 탄성률'] = df['굴곡 탄성률'].fillna(temp5)\n",
    "df['인장탄성율(Mpa)'] = df['인장탄성율(Mpa)'].fillna(temp6)\n",
    "df['신율\\n(%)'] = df['신율\\n(%)'].fillna(temp7)"
   ]
  },
  {
   "cell_type": "code",
   "execution_count": 17,
   "metadata": {},
   "outputs": [],
   "source": [
    "X = df.iloc[:,1:8]\n",
    "y = df['수지종류']"
   ]
  },
  {
   "cell_type": "code",
   "execution_count": 18,
   "metadata": {},
   "outputs": [],
   "source": [
    "X_train, X_test, y_train, y_test = train_test_split(X, y, random_state=0) "
   ]
  },
  {
   "cell_type": "code",
   "execution_count": 19,
   "metadata": {},
   "outputs": [
    {
     "name": "stderr",
     "output_type": "stream",
     "text": [
      "C:\\Users\\CPB06GameN\\anaconda3\\lib\\site-packages\\sklearn\\linear_model\\_logistic.py:763: ConvergenceWarning: lbfgs failed to converge (status=1):\n",
      "STOP: TOTAL NO. of ITERATIONS REACHED LIMIT.\n",
      "\n",
      "Increase the number of iterations (max_iter) or scale the data as shown in:\n",
      "    https://scikit-learn.org/stable/modules/preprocessing.html\n",
      "Please also refer to the documentation for alternative solver options:\n",
      "    https://scikit-learn.org/stable/modules/linear_model.html#logistic-regression\n",
      "  n_iter_i = _check_optimize_result(\n"
     ]
    },
    {
     "data": {
      "text/plain": [
       "0.5783132530120482"
      ]
     },
     "execution_count": 19,
     "metadata": {},
     "output_type": "execute_result"
    }
   ],
   "source": [
    "from sklearn.linear_model import LogisticRegression\n",
    "lr = LogisticRegression(max_iter=1000)\n",
    "lr.fit(X_train, y_train)\n",
    "lr.score(X_test, y_test)"
   ]
  },
  {
   "cell_type": "code",
   "execution_count": 20,
   "metadata": {},
   "outputs": [
    {
     "data": {
      "text/plain": [
       "0.4397590361445783"
      ]
     },
     "execution_count": 20,
     "metadata": {},
     "output_type": "execute_result"
    }
   ],
   "source": [
    "from sklearn.neighbors import KNeighborsClassifier\n",
    "knn = KNeighborsClassifier(n_neighbors=1)\n",
    "knn.fit(X_train,y_train)\n",
    "knn.score(X_test, y_test)"
   ]
  },
  {
   "cell_type": "code",
   "execution_count": 21,
   "metadata": {},
   "outputs": [
    {
     "data": {
      "text/plain": [
       "0.4879518072289157"
      ]
     },
     "execution_count": 21,
     "metadata": {},
     "output_type": "execute_result"
    }
   ],
   "source": [
    "from sklearn.tree import DecisionTreeClassifier\n",
    "tree = DecisionTreeClassifier(random_state=0)\n",
    "tree.fit(X_train, y_train)\n",
    "tree.score(X_test, y_test)"
   ]
  },
  {
   "cell_type": "code",
   "execution_count": 22,
   "metadata": {},
   "outputs": [
    {
     "data": {
      "text/plain": [
       "0.39759036144578314"
      ]
     },
     "execution_count": 22,
     "metadata": {},
     "output_type": "execute_result"
    }
   ],
   "source": [
    "from sklearn.neural_network import MLPClassifier\n",
    "mlp = MLPClassifier(random_state=0)\n",
    "mlp.fit(X_train, y_train)\n",
    "mlp.score(X_test, y_test)"
   ]
  },
  {
   "cell_type": "markdown",
   "metadata": {},
   "source": [
    "# 결론 : 결측치를 평균값으로 대체를 해도 여전히 떨어지는 학습능력"
   ]
  },
  {
   "cell_type": "code",
   "execution_count": 23,
   "metadata": {},
   "outputs": [
    {
     "data": {
      "text/html": [
       "<div>\n",
       "<style scoped>\n",
       "    .dataframe tbody tr th:only-of-type {\n",
       "        vertical-align: middle;\n",
       "    }\n",
       "\n",
       "    .dataframe tbody tr th {\n",
       "        vertical-align: top;\n",
       "    }\n",
       "\n",
       "    .dataframe thead th {\n",
       "        text-align: right;\n",
       "    }\n",
       "</style>\n",
       "<table border=\"1\" class=\"dataframe\">\n",
       "  <thead>\n",
       "    <tr style=\"text-align: right;\">\n",
       "      <th></th>\n",
       "      <th>수지종류</th>\n",
       "      <th>비중(Specific Gravity)</th>\n",
       "      <th>인장강도</th>\n",
       "      <th>파단강도</th>\n",
       "      <th>신율\\n(%)</th>\n",
       "      <th>굴곡강도</th>\n",
       "      <th>굴곡 탄성률</th>\n",
       "      <th>인장탄성율(Mpa)</th>\n",
       "    </tr>\n",
       "  </thead>\n",
       "  <tbody>\n",
       "    <tr>\n",
       "      <th>0</th>\n",
       "      <td>ABS</td>\n",
       "      <td>1.06</td>\n",
       "      <td>45.00</td>\n",
       "      <td>NaN</td>\n",
       "      <td>7.0</td>\n",
       "      <td>75.00</td>\n",
       "      <td>2500.0</td>\n",
       "      <td>NaN</td>\n",
       "    </tr>\n",
       "    <tr>\n",
       "      <th>1</th>\n",
       "      <td>ABS</td>\n",
       "      <td>1.20</td>\n",
       "      <td>58.80</td>\n",
       "      <td>NaN</td>\n",
       "      <td>100.0</td>\n",
       "      <td>88.20</td>\n",
       "      <td>2156.0</td>\n",
       "      <td>NaN</td>\n",
       "    </tr>\n",
       "    <tr>\n",
       "      <th>2</th>\n",
       "      <td>ABS</td>\n",
       "      <td>1.10</td>\n",
       "      <td>39.20</td>\n",
       "      <td>NaN</td>\n",
       "      <td>NaN</td>\n",
       "      <td>59.78</td>\n",
       "      <td>1666.0</td>\n",
       "      <td>NaN</td>\n",
       "    </tr>\n",
       "    <tr>\n",
       "      <th>3</th>\n",
       "      <td>ABS</td>\n",
       "      <td>1.11</td>\n",
       "      <td>54.88</td>\n",
       "      <td>NaN</td>\n",
       "      <td>70.0</td>\n",
       "      <td>84.28</td>\n",
       "      <td>2058.0</td>\n",
       "      <td>NaN</td>\n",
       "    </tr>\n",
       "    <tr>\n",
       "      <th>4</th>\n",
       "      <td>ABS</td>\n",
       "      <td>1.13</td>\n",
       "      <td>52.92</td>\n",
       "      <td>NaN</td>\n",
       "      <td>110.0</td>\n",
       "      <td>83.30</td>\n",
       "      <td>2205.0</td>\n",
       "      <td>NaN</td>\n",
       "    </tr>\n",
       "    <tr>\n",
       "      <th>...</th>\n",
       "      <td>...</td>\n",
       "      <td>...</td>\n",
       "      <td>...</td>\n",
       "      <td>...</td>\n",
       "      <td>...</td>\n",
       "      <td>...</td>\n",
       "      <td>...</td>\n",
       "      <td>...</td>\n",
       "    </tr>\n",
       "    <tr>\n",
       "      <th>657</th>\n",
       "      <td>PC</td>\n",
       "      <td>1.20</td>\n",
       "      <td>50.00</td>\n",
       "      <td>48.0</td>\n",
       "      <td>120.0</td>\n",
       "      <td>67.00</td>\n",
       "      <td>1800.0</td>\n",
       "      <td>1600.0</td>\n",
       "    </tr>\n",
       "    <tr>\n",
       "      <th>658</th>\n",
       "      <td>PC</td>\n",
       "      <td>1.20</td>\n",
       "      <td>54.00</td>\n",
       "      <td>52.0</td>\n",
       "      <td>100.0</td>\n",
       "      <td>80.00</td>\n",
       "      <td>2200.0</td>\n",
       "      <td>2100.0</td>\n",
       "    </tr>\n",
       "    <tr>\n",
       "      <th>659</th>\n",
       "      <td>PC</td>\n",
       "      <td>1.23</td>\n",
       "      <td>56.00</td>\n",
       "      <td>55.0</td>\n",
       "      <td>90.0</td>\n",
       "      <td>82.00</td>\n",
       "      <td>2400.0</td>\n",
       "      <td>2400.0</td>\n",
       "    </tr>\n",
       "    <tr>\n",
       "      <th>660</th>\n",
       "      <td>PC</td>\n",
       "      <td>1.33</td>\n",
       "      <td>63.00</td>\n",
       "      <td>58.0</td>\n",
       "      <td>4.0</td>\n",
       "      <td>100.00</td>\n",
       "      <td>4000.0</td>\n",
       "      <td>3800.0</td>\n",
       "    </tr>\n",
       "    <tr>\n",
       "      <th>661</th>\n",
       "      <td>PC</td>\n",
       "      <td>1.35</td>\n",
       "      <td>55.00</td>\n",
       "      <td>61.0</td>\n",
       "      <td>7.0</td>\n",
       "      <td>90.00</td>\n",
       "      <td>3900.0</td>\n",
       "      <td>4000.0</td>\n",
       "    </tr>\n",
       "  </tbody>\n",
       "</table>\n",
       "<p>662 rows × 8 columns</p>\n",
       "</div>"
      ],
      "text/plain": [
       "    수지종류  비중(Specific Gravity)   인장강도  파단강도  신율\\n(%)    굴곡강도  굴곡 탄성률  \\\n",
       "0    ABS                  1.06  45.00   NaN      7.0   75.00  2500.0   \n",
       "1    ABS                  1.20  58.80   NaN    100.0   88.20  2156.0   \n",
       "2    ABS                  1.10  39.20   NaN      NaN   59.78  1666.0   \n",
       "3    ABS                  1.11  54.88   NaN     70.0   84.28  2058.0   \n",
       "4    ABS                  1.13  52.92   NaN    110.0   83.30  2205.0   \n",
       "..   ...                   ...    ...   ...      ...     ...     ...   \n",
       "657   PC                  1.20  50.00  48.0    120.0   67.00  1800.0   \n",
       "658   PC                  1.20  54.00  52.0    100.0   80.00  2200.0   \n",
       "659   PC                  1.23  56.00  55.0     90.0   82.00  2400.0   \n",
       "660   PC                  1.33  63.00  58.0      4.0  100.00  4000.0   \n",
       "661   PC                  1.35  55.00  61.0      7.0   90.00  3900.0   \n",
       "\n",
       "     인장탄성율(Mpa)  \n",
       "0           NaN  \n",
       "1           NaN  \n",
       "2           NaN  \n",
       "3           NaN  \n",
       "4           NaN  \n",
       "..          ...  \n",
       "657      1600.0  \n",
       "658      2100.0  \n",
       "659      2400.0  \n",
       "660      3800.0  \n",
       "661      4000.0  \n",
       "\n",
       "[662 rows x 8 columns]"
      ]
     },
     "execution_count": 23,
     "metadata": {},
     "output_type": "execute_result"
    }
   ],
   "source": [
    "df = ta.iloc[:,3:11]  # 기존 ta데이터에서 학습시키기위해 세부와 각 수치만을 뽑음\n",
    "df"
   ]
  },
  {
   "cell_type": "code",
   "execution_count": 24,
   "metadata": {},
   "outputs": [],
   "source": [
    "df_abs = df[df[\"수지종류\"] == \"ABS\"]\n",
    "df_pa = df[df[\"수지종류\"] == \"PA\"]\n",
    "df_pbt = df[df[\"수지종류\"] == \"PBT\"]\n",
    "df_pc = df[df[\"수지종류\"] == \"PC\"]\n",
    "df_pe = df[df[\"수지종류\"] == \"PE\"]\n",
    "df_pom = df[df[\"수지종류\"] == \"POM\"]\n",
    "df_pp = df[df[\"수지종류\"] == \"PP\"]\n",
    "df_ppa = df[df[\"수지종류\"] == \"PPA\"]\n",
    "df_pps = df[df[\"수지종류\"] == \"PPS\"]\n",
    "df_tpc = df[df[\"수지종류\"] == \"TPC\"]"
   ]
  },
  {
   "cell_type": "code",
   "execution_count": 25,
   "metadata": {
    "scrolled": true
   },
   "outputs": [],
   "source": [
    "temp_1 = df_abs['비중(Specific Gravity)'].sum()/len(df_abs)\n",
    "temp_2 = df_abs['인장강도'].sum()/len(df_abs)\n",
    "temp_3 = df_abs['파단강도'].sum()/len(df_abs)\n",
    "temp_4 = df_abs['신율\\n(%)'].sum()/len(df_abs)\n",
    "temp_5 = df_abs['굴곡강도'].sum()/len(df_abs)\n",
    "temp_6 = df_abs['굴곡 탄성률'].sum()/len(df_abs)\n",
    "temp_7 = df_abs['인장탄성율(Mpa)'].sum()/len(df_abs)"
   ]
  },
  {
   "cell_type": "code",
   "execution_count": 26,
   "metadata": {
    "scrolled": true
   },
   "outputs": [
    {
     "name": "stderr",
     "output_type": "stream",
     "text": [
      "<ipython-input-26-358bebe324ee>:1: SettingWithCopyWarning: \n",
      "A value is trying to be set on a copy of a slice from a DataFrame.\n",
      "Try using .loc[row_indexer,col_indexer] = value instead\n",
      "\n",
      "See the caveats in the documentation: https://pandas.pydata.org/pandas-docs/stable/user_guide/indexing.html#returning-a-view-versus-a-copy\n",
      "  df_abs['비중(Specific Gravity)'] = df_abs['비중(Specific Gravity)'].fillna(temp_1)\n",
      "<ipython-input-26-358bebe324ee>:2: SettingWithCopyWarning: \n",
      "A value is trying to be set on a copy of a slice from a DataFrame.\n",
      "Try using .loc[row_indexer,col_indexer] = value instead\n",
      "\n",
      "See the caveats in the documentation: https://pandas.pydata.org/pandas-docs/stable/user_guide/indexing.html#returning-a-view-versus-a-copy\n",
      "  df_abs['인장강도'] = df_abs['인장강도'].fillna(temp_2)\n",
      "<ipython-input-26-358bebe324ee>:3: SettingWithCopyWarning: \n",
      "A value is trying to be set on a copy of a slice from a DataFrame.\n",
      "Try using .loc[row_indexer,col_indexer] = value instead\n",
      "\n",
      "See the caveats in the documentation: https://pandas.pydata.org/pandas-docs/stable/user_guide/indexing.html#returning-a-view-versus-a-copy\n",
      "  df_abs['파단강도'] = df_abs['파단강도'].fillna(temp_3)\n",
      "<ipython-input-26-358bebe324ee>:4: SettingWithCopyWarning: \n",
      "A value is trying to be set on a copy of a slice from a DataFrame.\n",
      "Try using .loc[row_indexer,col_indexer] = value instead\n",
      "\n",
      "See the caveats in the documentation: https://pandas.pydata.org/pandas-docs/stable/user_guide/indexing.html#returning-a-view-versus-a-copy\n",
      "  df_abs['신율\\n(%)'] = df_abs['신율\\n(%)'].fillna(temp_4)\n",
      "<ipython-input-26-358bebe324ee>:5: SettingWithCopyWarning: \n",
      "A value is trying to be set on a copy of a slice from a DataFrame.\n",
      "Try using .loc[row_indexer,col_indexer] = value instead\n",
      "\n",
      "See the caveats in the documentation: https://pandas.pydata.org/pandas-docs/stable/user_guide/indexing.html#returning-a-view-versus-a-copy\n",
      "  df_abs['굴곡강도'] = df_abs['굴곡강도'].fillna(temp_5)\n",
      "<ipython-input-26-358bebe324ee>:6: SettingWithCopyWarning: \n",
      "A value is trying to be set on a copy of a slice from a DataFrame.\n",
      "Try using .loc[row_indexer,col_indexer] = value instead\n",
      "\n",
      "See the caveats in the documentation: https://pandas.pydata.org/pandas-docs/stable/user_guide/indexing.html#returning-a-view-versus-a-copy\n",
      "  df_abs['굴곡 탄성률'] = df_abs['굴곡 탄성률'].fillna(temp_6)\n",
      "<ipython-input-26-358bebe324ee>:7: SettingWithCopyWarning: \n",
      "A value is trying to be set on a copy of a slice from a DataFrame.\n",
      "Try using .loc[row_indexer,col_indexer] = value instead\n",
      "\n",
      "See the caveats in the documentation: https://pandas.pydata.org/pandas-docs/stable/user_guide/indexing.html#returning-a-view-versus-a-copy\n",
      "  df_abs['인장탄성율(Mpa)'] = df_abs['인장탄성율(Mpa)'].fillna(temp_7)\n"
     ]
    }
   ],
   "source": [
    "df_abs['비중(Specific Gravity)'] = df_abs['비중(Specific Gravity)'].fillna(temp_1)\n",
    "df_abs['인장강도'] = df_abs['인장강도'].fillna(temp_2)\n",
    "df_abs['파단강도'] = df_abs['파단강도'].fillna(temp_3)\n",
    "df_abs['신율\\n(%)'] = df_abs['신율\\n(%)'].fillna(temp_4)\n",
    "df_abs['굴곡강도'] = df_abs['굴곡강도'].fillna(temp_5)\n",
    "df_abs['굴곡 탄성률'] = df_abs['굴곡 탄성률'].fillna(temp_6)\n",
    "df_abs['인장탄성율(Mpa)'] = df_abs['인장탄성율(Mpa)'].fillna(temp_7)"
   ]
  },
  {
   "cell_type": "code",
   "execution_count": 27,
   "metadata": {},
   "outputs": [],
   "source": [
    "temp_1 = df_pc['비중(Specific Gravity)'].sum()/len(df_pc)\n",
    "temp_2 = df_pc['인장강도'].sum()/len(df_pc)\n",
    "temp_3 = df_pc['파단강도'].sum()/len(df_pc)\n",
    "temp_4 = df_pc['신율\\n(%)'].sum()/len(df_pc)\n",
    "temp_5 = df_pc['굴곡강도'].sum()/len(df_pc)\n",
    "temp_6 = df_pc['굴곡 탄성률'].sum()/len(df_pc)\n",
    "temp_7 = df_pc['인장탄성율(Mpa)'].sum()/len(df_pc)"
   ]
  },
  {
   "cell_type": "code",
   "execution_count": 28,
   "metadata": {
    "scrolled": true
   },
   "outputs": [
    {
     "name": "stderr",
     "output_type": "stream",
     "text": [
      "<ipython-input-28-7210230559e6>:1: SettingWithCopyWarning: \n",
      "A value is trying to be set on a copy of a slice from a DataFrame.\n",
      "Try using .loc[row_indexer,col_indexer] = value instead\n",
      "\n",
      "See the caveats in the documentation: https://pandas.pydata.org/pandas-docs/stable/user_guide/indexing.html#returning-a-view-versus-a-copy\n",
      "  df_pc['비중(Specific Gravity)'] = df_pc['비중(Specific Gravity)'].fillna(temp_1)\n",
      "<ipython-input-28-7210230559e6>:2: SettingWithCopyWarning: \n",
      "A value is trying to be set on a copy of a slice from a DataFrame.\n",
      "Try using .loc[row_indexer,col_indexer] = value instead\n",
      "\n",
      "See the caveats in the documentation: https://pandas.pydata.org/pandas-docs/stable/user_guide/indexing.html#returning-a-view-versus-a-copy\n",
      "  df_pc['인장강도'] = df_pc['인장강도'].fillna(temp_2)\n",
      "<ipython-input-28-7210230559e6>:3: SettingWithCopyWarning: \n",
      "A value is trying to be set on a copy of a slice from a DataFrame.\n",
      "Try using .loc[row_indexer,col_indexer] = value instead\n",
      "\n",
      "See the caveats in the documentation: https://pandas.pydata.org/pandas-docs/stable/user_guide/indexing.html#returning-a-view-versus-a-copy\n",
      "  df_pc['파단강도'] = df_pc['파단강도'].fillna(temp_3)\n",
      "<ipython-input-28-7210230559e6>:4: SettingWithCopyWarning: \n",
      "A value is trying to be set on a copy of a slice from a DataFrame.\n",
      "Try using .loc[row_indexer,col_indexer] = value instead\n",
      "\n",
      "See the caveats in the documentation: https://pandas.pydata.org/pandas-docs/stable/user_guide/indexing.html#returning-a-view-versus-a-copy\n",
      "  df_pc['신율\\n(%)'] = df_pc['신율\\n(%)'].fillna(temp_4)\n",
      "<ipython-input-28-7210230559e6>:5: SettingWithCopyWarning: \n",
      "A value is trying to be set on a copy of a slice from a DataFrame.\n",
      "Try using .loc[row_indexer,col_indexer] = value instead\n",
      "\n",
      "See the caveats in the documentation: https://pandas.pydata.org/pandas-docs/stable/user_guide/indexing.html#returning-a-view-versus-a-copy\n",
      "  df_pc['굴곡강도'] = df_pc['굴곡강도'].fillna(temp_5)\n",
      "<ipython-input-28-7210230559e6>:6: SettingWithCopyWarning: \n",
      "A value is trying to be set on a copy of a slice from a DataFrame.\n",
      "Try using .loc[row_indexer,col_indexer] = value instead\n",
      "\n",
      "See the caveats in the documentation: https://pandas.pydata.org/pandas-docs/stable/user_guide/indexing.html#returning-a-view-versus-a-copy\n",
      "  df_pc['굴곡 탄성률'] = df_pc['굴곡 탄성률'].fillna(temp_6)\n",
      "<ipython-input-28-7210230559e6>:7: SettingWithCopyWarning: \n",
      "A value is trying to be set on a copy of a slice from a DataFrame.\n",
      "Try using .loc[row_indexer,col_indexer] = value instead\n",
      "\n",
      "See the caveats in the documentation: https://pandas.pydata.org/pandas-docs/stable/user_guide/indexing.html#returning-a-view-versus-a-copy\n",
      "  df_pc['인장탄성율(Mpa)'] = df_pc['인장탄성율(Mpa)'].fillna(temp_7)\n"
     ]
    }
   ],
   "source": [
    "df_pc['비중(Specific Gravity)'] = df_pc['비중(Specific Gravity)'].fillna(temp_1)\n",
    "df_pc['인장강도'] = df_pc['인장강도'].fillna(temp_2)\n",
    "df_pc['파단강도'] = df_pc['파단강도'].fillna(temp_3)\n",
    "df_pc['신율\\n(%)'] = df_pc['신율\\n(%)'].fillna(temp_4)\n",
    "df_pc['굴곡강도'] = df_pc['굴곡강도'].fillna(temp_5)\n",
    "df_pc['굴곡 탄성률'] = df_pc['굴곡 탄성률'].fillna(temp_6)\n",
    "df_pc['인장탄성율(Mpa)'] = df_pc['인장탄성율(Mpa)'].fillna(temp_7)"
   ]
  },
  {
   "cell_type": "code",
   "execution_count": 29,
   "metadata": {},
   "outputs": [],
   "source": [
    "temp_1 = df_pa['비중(Specific Gravity)'].sum()/len(df_pa)\n",
    "temp_2 = df_pa['인장강도'].sum()/len(df_pa)\n",
    "temp_3 = df_pa['파단강도'].sum()/len(df_pa)\n",
    "temp_4 = df_pa['신율\\n(%)'].sum()/len(df_pa)\n",
    "temp_5 = df_pa['굴곡강도'].sum()/len(df_pa)\n",
    "temp_6 = df_pa['굴곡 탄성률'].sum()/len(df_pa)\n",
    "temp_7 = df_pa['인장탄성율(Mpa)'].sum()/len(df_pa)"
   ]
  },
  {
   "cell_type": "code",
   "execution_count": 30,
   "metadata": {
    "scrolled": true
   },
   "outputs": [
    {
     "name": "stderr",
     "output_type": "stream",
     "text": [
      "<ipython-input-30-c8664527620c>:1: SettingWithCopyWarning: \n",
      "A value is trying to be set on a copy of a slice from a DataFrame.\n",
      "Try using .loc[row_indexer,col_indexer] = value instead\n",
      "\n",
      "See the caveats in the documentation: https://pandas.pydata.org/pandas-docs/stable/user_guide/indexing.html#returning-a-view-versus-a-copy\n",
      "  df_pa['비중(Specific Gravity)'] = df_pa['비중(Specific Gravity)'].fillna(temp_1)\n",
      "<ipython-input-30-c8664527620c>:2: SettingWithCopyWarning: \n",
      "A value is trying to be set on a copy of a slice from a DataFrame.\n",
      "Try using .loc[row_indexer,col_indexer] = value instead\n",
      "\n",
      "See the caveats in the documentation: https://pandas.pydata.org/pandas-docs/stable/user_guide/indexing.html#returning-a-view-versus-a-copy\n",
      "  df_pa['인장강도'] = df_pa['인장강도'].fillna(temp_2)\n",
      "<ipython-input-30-c8664527620c>:3: SettingWithCopyWarning: \n",
      "A value is trying to be set on a copy of a slice from a DataFrame.\n",
      "Try using .loc[row_indexer,col_indexer] = value instead\n",
      "\n",
      "See the caveats in the documentation: https://pandas.pydata.org/pandas-docs/stable/user_guide/indexing.html#returning-a-view-versus-a-copy\n",
      "  df_pa['파단강도'] = df_pa['파단강도'].fillna(temp_3)\n",
      "<ipython-input-30-c8664527620c>:4: SettingWithCopyWarning: \n",
      "A value is trying to be set on a copy of a slice from a DataFrame.\n",
      "Try using .loc[row_indexer,col_indexer] = value instead\n",
      "\n",
      "See the caveats in the documentation: https://pandas.pydata.org/pandas-docs/stable/user_guide/indexing.html#returning-a-view-versus-a-copy\n",
      "  df_pa['신율\\n(%)'] = df_pa['신율\\n(%)'].fillna(temp_4)\n",
      "<ipython-input-30-c8664527620c>:5: SettingWithCopyWarning: \n",
      "A value is trying to be set on a copy of a slice from a DataFrame.\n",
      "Try using .loc[row_indexer,col_indexer] = value instead\n",
      "\n",
      "See the caveats in the documentation: https://pandas.pydata.org/pandas-docs/stable/user_guide/indexing.html#returning-a-view-versus-a-copy\n",
      "  df_pa['굴곡강도'] = df_pa['굴곡강도'].fillna(temp_5)\n",
      "<ipython-input-30-c8664527620c>:6: SettingWithCopyWarning: \n",
      "A value is trying to be set on a copy of a slice from a DataFrame.\n",
      "Try using .loc[row_indexer,col_indexer] = value instead\n",
      "\n",
      "See the caveats in the documentation: https://pandas.pydata.org/pandas-docs/stable/user_guide/indexing.html#returning-a-view-versus-a-copy\n",
      "  df_pa['굴곡 탄성률'] = df_pa['굴곡 탄성률'].fillna(temp_6)\n",
      "<ipython-input-30-c8664527620c>:7: SettingWithCopyWarning: \n",
      "A value is trying to be set on a copy of a slice from a DataFrame.\n",
      "Try using .loc[row_indexer,col_indexer] = value instead\n",
      "\n",
      "See the caveats in the documentation: https://pandas.pydata.org/pandas-docs/stable/user_guide/indexing.html#returning-a-view-versus-a-copy\n",
      "  df_pa['인장탄성율(Mpa)'] = df_pa['인장탄성율(Mpa)'].fillna(temp_7)\n"
     ]
    }
   ],
   "source": [
    "df_pa['비중(Specific Gravity)'] = df_pa['비중(Specific Gravity)'].fillna(temp_1)\n",
    "df_pa['인장강도'] = df_pa['인장강도'].fillna(temp_2)\n",
    "df_pa['파단강도'] = df_pa['파단강도'].fillna(temp_3)\n",
    "df_pa['신율\\n(%)'] = df_pa['신율\\n(%)'].fillna(temp_4)\n",
    "df_pa['굴곡강도'] = df_pa['굴곡강도'].fillna(temp_5)\n",
    "df_pa['굴곡 탄성률'] = df_pa['굴곡 탄성률'].fillna(temp_6)\n",
    "df_pa['인장탄성율(Mpa)'] = df_pa['인장탄성율(Mpa)'].fillna(temp_7)"
   ]
  },
  {
   "cell_type": "code",
   "execution_count": 31,
   "metadata": {},
   "outputs": [],
   "source": [
    "temp_1 = df_pbt['비중(Specific Gravity)'].sum()/len(df_pbt)\n",
    "temp_2 = df_pbt['인장강도'].sum()/len(df_pbt)\n",
    "temp_3 = df_pbt['파단강도'].sum()/len(df_pbt)\n",
    "temp_4 = df_pbt['신율\\n(%)'].sum()/len(df_pbt)\n",
    "temp_5 = df_pbt['굴곡강도'].sum()/len(df_pbt)\n",
    "temp_6 = df_pbt['굴곡 탄성률'].sum()/len(df_pbt)\n",
    "temp_7 = df_pbt['인장탄성율(Mpa)'].sum()/len(df_pbt)"
   ]
  },
  {
   "cell_type": "code",
   "execution_count": 32,
   "metadata": {
    "scrolled": true
   },
   "outputs": [
    {
     "name": "stderr",
     "output_type": "stream",
     "text": [
      "<ipython-input-32-1697f50b5eeb>:1: SettingWithCopyWarning: \n",
      "A value is trying to be set on a copy of a slice from a DataFrame.\n",
      "Try using .loc[row_indexer,col_indexer] = value instead\n",
      "\n",
      "See the caveats in the documentation: https://pandas.pydata.org/pandas-docs/stable/user_guide/indexing.html#returning-a-view-versus-a-copy\n",
      "  df_pbt['비중(Specific Gravity)'] = df_pbt['비중(Specific Gravity)'].fillna(temp_1)\n",
      "<ipython-input-32-1697f50b5eeb>:2: SettingWithCopyWarning: \n",
      "A value is trying to be set on a copy of a slice from a DataFrame.\n",
      "Try using .loc[row_indexer,col_indexer] = value instead\n",
      "\n",
      "See the caveats in the documentation: https://pandas.pydata.org/pandas-docs/stable/user_guide/indexing.html#returning-a-view-versus-a-copy\n",
      "  df_pbt['인장강도'] = df_pbt['인장강도'].fillna(temp_2)\n",
      "<ipython-input-32-1697f50b5eeb>:3: SettingWithCopyWarning: \n",
      "A value is trying to be set on a copy of a slice from a DataFrame.\n",
      "Try using .loc[row_indexer,col_indexer] = value instead\n",
      "\n",
      "See the caveats in the documentation: https://pandas.pydata.org/pandas-docs/stable/user_guide/indexing.html#returning-a-view-versus-a-copy\n",
      "  df_pbt['파단강도'] = df_pbt['파단강도'].fillna(temp_3)\n",
      "<ipython-input-32-1697f50b5eeb>:4: SettingWithCopyWarning: \n",
      "A value is trying to be set on a copy of a slice from a DataFrame.\n",
      "Try using .loc[row_indexer,col_indexer] = value instead\n",
      "\n",
      "See the caveats in the documentation: https://pandas.pydata.org/pandas-docs/stable/user_guide/indexing.html#returning-a-view-versus-a-copy\n",
      "  df_pbt['신율\\n(%)'] = df_pbt['신율\\n(%)'].fillna(temp_4)\n",
      "<ipython-input-32-1697f50b5eeb>:5: SettingWithCopyWarning: \n",
      "A value is trying to be set on a copy of a slice from a DataFrame.\n",
      "Try using .loc[row_indexer,col_indexer] = value instead\n",
      "\n",
      "See the caveats in the documentation: https://pandas.pydata.org/pandas-docs/stable/user_guide/indexing.html#returning-a-view-versus-a-copy\n",
      "  df_pbt['굴곡강도'] = df_pbt['굴곡강도'].fillna(temp_5)\n",
      "<ipython-input-32-1697f50b5eeb>:6: SettingWithCopyWarning: \n",
      "A value is trying to be set on a copy of a slice from a DataFrame.\n",
      "Try using .loc[row_indexer,col_indexer] = value instead\n",
      "\n",
      "See the caveats in the documentation: https://pandas.pydata.org/pandas-docs/stable/user_guide/indexing.html#returning-a-view-versus-a-copy\n",
      "  df_pbt['굴곡 탄성률'] = df_pbt['굴곡 탄성률'].fillna(temp_6)\n",
      "<ipython-input-32-1697f50b5eeb>:7: SettingWithCopyWarning: \n",
      "A value is trying to be set on a copy of a slice from a DataFrame.\n",
      "Try using .loc[row_indexer,col_indexer] = value instead\n",
      "\n",
      "See the caveats in the documentation: https://pandas.pydata.org/pandas-docs/stable/user_guide/indexing.html#returning-a-view-versus-a-copy\n",
      "  df_pbt['인장탄성율(Mpa)'] = df_pbt['인장탄성율(Mpa)'].fillna(temp_7)\n"
     ]
    }
   ],
   "source": [
    "df_pbt['비중(Specific Gravity)'] = df_pbt['비중(Specific Gravity)'].fillna(temp_1)\n",
    "df_pbt['인장강도'] = df_pbt['인장강도'].fillna(temp_2)\n",
    "df_pbt['파단강도'] = df_pbt['파단강도'].fillna(temp_3)\n",
    "df_pbt['신율\\n(%)'] = df_pbt['신율\\n(%)'].fillna(temp_4)\n",
    "df_pbt['굴곡강도'] = df_pbt['굴곡강도'].fillna(temp_5)\n",
    "df_pbt['굴곡 탄성률'] = df_pbt['굴곡 탄성률'].fillna(temp_6)\n",
    "df_pbt['인장탄성율(Mpa)'] = df_pbt['인장탄성율(Mpa)'].fillna(temp_7)"
   ]
  },
  {
   "cell_type": "code",
   "execution_count": 33,
   "metadata": {},
   "outputs": [],
   "source": [
    "temp_1 = df_pe['비중(Specific Gravity)'].sum()/len(df_pe)\n",
    "temp_2 = df_pe['인장강도'].sum()/len(df_pe)\n",
    "temp_3 = df_pe['파단강도'].sum()/len(df_pe)\n",
    "temp_4 = df_pe['신율\\n(%)'].sum()/len(df_pe)\n",
    "temp_5 = df_pe['굴곡강도'].sum()/len(df_pe)\n",
    "temp_6 = df_pe['굴곡 탄성률'].sum()/len(df_pe)\n",
    "temp_7 = df_pe['인장탄성율(Mpa)'].sum()/len(df_pe)"
   ]
  },
  {
   "cell_type": "code",
   "execution_count": 34,
   "metadata": {
    "scrolled": true
   },
   "outputs": [
    {
     "name": "stderr",
     "output_type": "stream",
     "text": [
      "<ipython-input-34-a9b644e498b4>:1: SettingWithCopyWarning: \n",
      "A value is trying to be set on a copy of a slice from a DataFrame.\n",
      "Try using .loc[row_indexer,col_indexer] = value instead\n",
      "\n",
      "See the caveats in the documentation: https://pandas.pydata.org/pandas-docs/stable/user_guide/indexing.html#returning-a-view-versus-a-copy\n",
      "  df_pe['비중(Specific Gravity)'] = df_pe['비중(Specific Gravity)'].fillna(temp_1)\n",
      "<ipython-input-34-a9b644e498b4>:2: SettingWithCopyWarning: \n",
      "A value is trying to be set on a copy of a slice from a DataFrame.\n",
      "Try using .loc[row_indexer,col_indexer] = value instead\n",
      "\n",
      "See the caveats in the documentation: https://pandas.pydata.org/pandas-docs/stable/user_guide/indexing.html#returning-a-view-versus-a-copy\n",
      "  df_pe['인장강도'] = df_pe['인장강도'].fillna(temp_2)\n",
      "<ipython-input-34-a9b644e498b4>:3: SettingWithCopyWarning: \n",
      "A value is trying to be set on a copy of a slice from a DataFrame.\n",
      "Try using .loc[row_indexer,col_indexer] = value instead\n",
      "\n",
      "See the caveats in the documentation: https://pandas.pydata.org/pandas-docs/stable/user_guide/indexing.html#returning-a-view-versus-a-copy\n",
      "  df_pe['파단강도'] = df_pe['파단강도'].fillna(temp_3)\n",
      "<ipython-input-34-a9b644e498b4>:4: SettingWithCopyWarning: \n",
      "A value is trying to be set on a copy of a slice from a DataFrame.\n",
      "Try using .loc[row_indexer,col_indexer] = value instead\n",
      "\n",
      "See the caveats in the documentation: https://pandas.pydata.org/pandas-docs/stable/user_guide/indexing.html#returning-a-view-versus-a-copy\n",
      "  df_pe['신율\\n(%)'] = df_pe['신율\\n(%)'].fillna(temp_4)\n",
      "<ipython-input-34-a9b644e498b4>:5: SettingWithCopyWarning: \n",
      "A value is trying to be set on a copy of a slice from a DataFrame.\n",
      "Try using .loc[row_indexer,col_indexer] = value instead\n",
      "\n",
      "See the caveats in the documentation: https://pandas.pydata.org/pandas-docs/stable/user_guide/indexing.html#returning-a-view-versus-a-copy\n",
      "  df_pe['굴곡강도'] = df_pe['굴곡강도'].fillna(temp_5)\n",
      "<ipython-input-34-a9b644e498b4>:6: SettingWithCopyWarning: \n",
      "A value is trying to be set on a copy of a slice from a DataFrame.\n",
      "Try using .loc[row_indexer,col_indexer] = value instead\n",
      "\n",
      "See the caveats in the documentation: https://pandas.pydata.org/pandas-docs/stable/user_guide/indexing.html#returning-a-view-versus-a-copy\n",
      "  df_pe['굴곡 탄성률'] = df_pe['굴곡 탄성률'].fillna(temp_6)\n",
      "<ipython-input-34-a9b644e498b4>:7: SettingWithCopyWarning: \n",
      "A value is trying to be set on a copy of a slice from a DataFrame.\n",
      "Try using .loc[row_indexer,col_indexer] = value instead\n",
      "\n",
      "See the caveats in the documentation: https://pandas.pydata.org/pandas-docs/stable/user_guide/indexing.html#returning-a-view-versus-a-copy\n",
      "  df_pe['인장탄성율(Mpa)'] = df_pe['인장탄성율(Mpa)'].fillna(temp_7)\n"
     ]
    }
   ],
   "source": [
    "df_pe['비중(Specific Gravity)'] = df_pe['비중(Specific Gravity)'].fillna(temp_1)\n",
    "df_pe['인장강도'] = df_pe['인장강도'].fillna(temp_2)\n",
    "df_pe['파단강도'] = df_pe['파단강도'].fillna(temp_3)\n",
    "df_pe['신율\\n(%)'] = df_pe['신율\\n(%)'].fillna(temp_4)\n",
    "df_pe['굴곡강도'] = df_pe['굴곡강도'].fillna(temp_5)\n",
    "df_pe['굴곡 탄성률'] = df_pe['굴곡 탄성률'].fillna(temp_6)\n",
    "df_pe['인장탄성율(Mpa)'] = df_pe['인장탄성율(Mpa)'].fillna(temp_7)"
   ]
  },
  {
   "cell_type": "code",
   "execution_count": 35,
   "metadata": {},
   "outputs": [],
   "source": [
    "temp_1 = df_tpc['비중(Specific Gravity)'].sum()/len(df_tpc)\n",
    "temp_2 = df_tpc['인장강도'].sum()/len(df_tpc)\n",
    "temp_3 = df_tpc['파단강도'].sum()/len(df_tpc)\n",
    "temp_4 = df_tpc['신율\\n(%)'].sum()/len(df_tpc)\n",
    "temp_5 = df_tpc['굴곡강도'].sum()/len(df_tpc)\n",
    "temp_6 = df_tpc['굴곡 탄성률'].sum()/len(df_tpc)\n",
    "temp_7 = df_tpc['인장탄성율(Mpa)'].sum()/len(df_tpc)"
   ]
  },
  {
   "cell_type": "code",
   "execution_count": 36,
   "metadata": {
    "scrolled": true
   },
   "outputs": [
    {
     "name": "stderr",
     "output_type": "stream",
     "text": [
      "<ipython-input-36-f511407c4833>:1: SettingWithCopyWarning: \n",
      "A value is trying to be set on a copy of a slice from a DataFrame.\n",
      "Try using .loc[row_indexer,col_indexer] = value instead\n",
      "\n",
      "See the caveats in the documentation: https://pandas.pydata.org/pandas-docs/stable/user_guide/indexing.html#returning-a-view-versus-a-copy\n",
      "  df_tpc['비중(Specific Gravity)'] = df_tpc['비중(Specific Gravity)'].fillna(temp_1)\n",
      "<ipython-input-36-f511407c4833>:2: SettingWithCopyWarning: \n",
      "A value is trying to be set on a copy of a slice from a DataFrame.\n",
      "Try using .loc[row_indexer,col_indexer] = value instead\n",
      "\n",
      "See the caveats in the documentation: https://pandas.pydata.org/pandas-docs/stable/user_guide/indexing.html#returning-a-view-versus-a-copy\n",
      "  df_tpc['인장강도'] = df_tpc['인장강도'].fillna(temp_2)\n",
      "<ipython-input-36-f511407c4833>:3: SettingWithCopyWarning: \n",
      "A value is trying to be set on a copy of a slice from a DataFrame.\n",
      "Try using .loc[row_indexer,col_indexer] = value instead\n",
      "\n",
      "See the caveats in the documentation: https://pandas.pydata.org/pandas-docs/stable/user_guide/indexing.html#returning-a-view-versus-a-copy\n",
      "  df_tpc['파단강도'] = df_tpc['파단강도'].fillna(temp_3)\n",
      "<ipython-input-36-f511407c4833>:4: SettingWithCopyWarning: \n",
      "A value is trying to be set on a copy of a slice from a DataFrame.\n",
      "Try using .loc[row_indexer,col_indexer] = value instead\n",
      "\n",
      "See the caveats in the documentation: https://pandas.pydata.org/pandas-docs/stable/user_guide/indexing.html#returning-a-view-versus-a-copy\n",
      "  df_tpc['신율\\n(%)'] = df_tpc['신율\\n(%)'].fillna(temp_4)\n",
      "<ipython-input-36-f511407c4833>:5: SettingWithCopyWarning: \n",
      "A value is trying to be set on a copy of a slice from a DataFrame.\n",
      "Try using .loc[row_indexer,col_indexer] = value instead\n",
      "\n",
      "See the caveats in the documentation: https://pandas.pydata.org/pandas-docs/stable/user_guide/indexing.html#returning-a-view-versus-a-copy\n",
      "  df_tpc['굴곡강도'] = df_tpc['굴곡강도'].fillna(temp_5)\n",
      "<ipython-input-36-f511407c4833>:6: SettingWithCopyWarning: \n",
      "A value is trying to be set on a copy of a slice from a DataFrame.\n",
      "Try using .loc[row_indexer,col_indexer] = value instead\n",
      "\n",
      "See the caveats in the documentation: https://pandas.pydata.org/pandas-docs/stable/user_guide/indexing.html#returning-a-view-versus-a-copy\n",
      "  df_tpc['굴곡 탄성률'] = df_tpc['굴곡 탄성률'].fillna(temp_6)\n",
      "<ipython-input-36-f511407c4833>:7: SettingWithCopyWarning: \n",
      "A value is trying to be set on a copy of a slice from a DataFrame.\n",
      "Try using .loc[row_indexer,col_indexer] = value instead\n",
      "\n",
      "See the caveats in the documentation: https://pandas.pydata.org/pandas-docs/stable/user_guide/indexing.html#returning-a-view-versus-a-copy\n",
      "  df_tpc['인장탄성율(Mpa)'] = df_tpc['인장탄성율(Mpa)'].fillna(temp_7)\n"
     ]
    }
   ],
   "source": [
    "df_tpc['비중(Specific Gravity)'] = df_tpc['비중(Specific Gravity)'].fillna(temp_1)\n",
    "df_tpc['인장강도'] = df_tpc['인장강도'].fillna(temp_2)\n",
    "df_tpc['파단강도'] = df_tpc['파단강도'].fillna(temp_3)\n",
    "df_tpc['신율\\n(%)'] = df_tpc['신율\\n(%)'].fillna(temp_4)\n",
    "df_tpc['굴곡강도'] = df_tpc['굴곡강도'].fillna(temp_5)\n",
    "df_tpc['굴곡 탄성률'] = df_tpc['굴곡 탄성률'].fillna(temp_6)\n",
    "df_tpc['인장탄성율(Mpa)'] = df_tpc['인장탄성율(Mpa)'].fillna(temp_7)"
   ]
  },
  {
   "cell_type": "code",
   "execution_count": 37,
   "metadata": {},
   "outputs": [],
   "source": [
    "temp_1 = df_pp['비중(Specific Gravity)'].sum()/len(df_pp)\n",
    "temp_2 = df_pp['인장강도'].sum()/len(df_pp)\n",
    "temp_3 = df_pp['파단강도'].sum()/len(df_pp)\n",
    "temp_4 = df_pp['신율\\n(%)'].sum()/len(df_pp)\n",
    "temp_5 = df_pp['굴곡강도'].sum()/len(df_pp)\n",
    "temp_6 = df_pp['굴곡 탄성률'].sum()/len(df_pp)\n",
    "temp_7 = df_pp['인장탄성율(Mpa)'].sum()/len(df_pp)"
   ]
  },
  {
   "cell_type": "code",
   "execution_count": 38,
   "metadata": {
    "scrolled": true
   },
   "outputs": [
    {
     "name": "stderr",
     "output_type": "stream",
     "text": [
      "<ipython-input-38-5e55e2f36e44>:1: SettingWithCopyWarning: \n",
      "A value is trying to be set on a copy of a slice from a DataFrame.\n",
      "Try using .loc[row_indexer,col_indexer] = value instead\n",
      "\n",
      "See the caveats in the documentation: https://pandas.pydata.org/pandas-docs/stable/user_guide/indexing.html#returning-a-view-versus-a-copy\n",
      "  df_pp['비중(Specific Gravity)'] = df_pp['비중(Specific Gravity)'].fillna(temp_1)\n",
      "<ipython-input-38-5e55e2f36e44>:2: SettingWithCopyWarning: \n",
      "A value is trying to be set on a copy of a slice from a DataFrame.\n",
      "Try using .loc[row_indexer,col_indexer] = value instead\n",
      "\n",
      "See the caveats in the documentation: https://pandas.pydata.org/pandas-docs/stable/user_guide/indexing.html#returning-a-view-versus-a-copy\n",
      "  df_pp['인장강도'] = df_pp['인장강도'].fillna(temp_2)\n",
      "<ipython-input-38-5e55e2f36e44>:3: SettingWithCopyWarning: \n",
      "A value is trying to be set on a copy of a slice from a DataFrame.\n",
      "Try using .loc[row_indexer,col_indexer] = value instead\n",
      "\n",
      "See the caveats in the documentation: https://pandas.pydata.org/pandas-docs/stable/user_guide/indexing.html#returning-a-view-versus-a-copy\n",
      "  df_pp['파단강도'] = df_pp['파단강도'].fillna(temp_3)\n",
      "<ipython-input-38-5e55e2f36e44>:4: SettingWithCopyWarning: \n",
      "A value is trying to be set on a copy of a slice from a DataFrame.\n",
      "Try using .loc[row_indexer,col_indexer] = value instead\n",
      "\n",
      "See the caveats in the documentation: https://pandas.pydata.org/pandas-docs/stable/user_guide/indexing.html#returning-a-view-versus-a-copy\n",
      "  df_pp['신율\\n(%)'] = df_pp['신율\\n(%)'].fillna(temp_4)\n",
      "<ipython-input-38-5e55e2f36e44>:5: SettingWithCopyWarning: \n",
      "A value is trying to be set on a copy of a slice from a DataFrame.\n",
      "Try using .loc[row_indexer,col_indexer] = value instead\n",
      "\n",
      "See the caveats in the documentation: https://pandas.pydata.org/pandas-docs/stable/user_guide/indexing.html#returning-a-view-versus-a-copy\n",
      "  df_pp['굴곡강도'] = df_pp['굴곡강도'].fillna(temp_5)\n",
      "<ipython-input-38-5e55e2f36e44>:6: SettingWithCopyWarning: \n",
      "A value is trying to be set on a copy of a slice from a DataFrame.\n",
      "Try using .loc[row_indexer,col_indexer] = value instead\n",
      "\n",
      "See the caveats in the documentation: https://pandas.pydata.org/pandas-docs/stable/user_guide/indexing.html#returning-a-view-versus-a-copy\n",
      "  df_pp['굴곡 탄성률'] = df_pp['굴곡 탄성률'].fillna(temp_6)\n",
      "<ipython-input-38-5e55e2f36e44>:7: SettingWithCopyWarning: \n",
      "A value is trying to be set on a copy of a slice from a DataFrame.\n",
      "Try using .loc[row_indexer,col_indexer] = value instead\n",
      "\n",
      "See the caveats in the documentation: https://pandas.pydata.org/pandas-docs/stable/user_guide/indexing.html#returning-a-view-versus-a-copy\n",
      "  df_pp['인장탄성율(Mpa)'] = df_pp['인장탄성율(Mpa)'].fillna(temp_7)\n"
     ]
    }
   ],
   "source": [
    "df_pp['비중(Specific Gravity)'] = df_pp['비중(Specific Gravity)'].fillna(temp_1)\n",
    "df_pp['인장강도'] = df_pp['인장강도'].fillna(temp_2)\n",
    "df_pp['파단강도'] = df_pp['파단강도'].fillna(temp_3)\n",
    "df_pp['신율\\n(%)'] = df_pp['신율\\n(%)'].fillna(temp_4)\n",
    "df_pp['굴곡강도'] = df_pp['굴곡강도'].fillna(temp_5)\n",
    "df_pp['굴곡 탄성률'] = df_pp['굴곡 탄성률'].fillna(temp_6)\n",
    "df_pp['인장탄성율(Mpa)'] = df_pp['인장탄성율(Mpa)'].fillna(temp_7)"
   ]
  },
  {
   "cell_type": "code",
   "execution_count": 39,
   "metadata": {},
   "outputs": [],
   "source": [
    "temp_1 = df_pps['비중(Specific Gravity)'].sum()/len(df_pps)\n",
    "temp_2 = df_pps['인장강도'].sum()/len(df_pps)\n",
    "temp_3 = df_pps['파단강도'].sum()/len(df_pps)\n",
    "temp_4 = df_pps['신율\\n(%)'].sum()/len(df_pps)\n",
    "temp_5 = df_pps['굴곡강도'].sum()/len(df_pps)\n",
    "temp_6 = df_pps['굴곡 탄성률'].sum()/len(df_pps)\n",
    "temp_7 = df_pps['인장탄성율(Mpa)'].sum()/len(df_pps)"
   ]
  },
  {
   "cell_type": "code",
   "execution_count": 40,
   "metadata": {
    "scrolled": true
   },
   "outputs": [
    {
     "name": "stderr",
     "output_type": "stream",
     "text": [
      "<ipython-input-40-cbcbbd019ba6>:1: SettingWithCopyWarning: \n",
      "A value is trying to be set on a copy of a slice from a DataFrame.\n",
      "Try using .loc[row_indexer,col_indexer] = value instead\n",
      "\n",
      "See the caveats in the documentation: https://pandas.pydata.org/pandas-docs/stable/user_guide/indexing.html#returning-a-view-versus-a-copy\n",
      "  df_pps['비중(Specific Gravity)'] = df_pps['비중(Specific Gravity)'].fillna(temp_1)\n",
      "<ipython-input-40-cbcbbd019ba6>:2: SettingWithCopyWarning: \n",
      "A value is trying to be set on a copy of a slice from a DataFrame.\n",
      "Try using .loc[row_indexer,col_indexer] = value instead\n",
      "\n",
      "See the caveats in the documentation: https://pandas.pydata.org/pandas-docs/stable/user_guide/indexing.html#returning-a-view-versus-a-copy\n",
      "  df_pps['인장강도'] = df_pps['인장강도'].fillna(temp_2)\n",
      "<ipython-input-40-cbcbbd019ba6>:3: SettingWithCopyWarning: \n",
      "A value is trying to be set on a copy of a slice from a DataFrame.\n",
      "Try using .loc[row_indexer,col_indexer] = value instead\n",
      "\n",
      "See the caveats in the documentation: https://pandas.pydata.org/pandas-docs/stable/user_guide/indexing.html#returning-a-view-versus-a-copy\n",
      "  df_pps['파단강도'] = df_pps['파단강도'].fillna(temp_3)\n",
      "<ipython-input-40-cbcbbd019ba6>:4: SettingWithCopyWarning: \n",
      "A value is trying to be set on a copy of a slice from a DataFrame.\n",
      "Try using .loc[row_indexer,col_indexer] = value instead\n",
      "\n",
      "See the caveats in the documentation: https://pandas.pydata.org/pandas-docs/stable/user_guide/indexing.html#returning-a-view-versus-a-copy\n",
      "  df_pps['신율\\n(%)'] = df_pps['신율\\n(%)'].fillna(temp_4)\n",
      "<ipython-input-40-cbcbbd019ba6>:5: SettingWithCopyWarning: \n",
      "A value is trying to be set on a copy of a slice from a DataFrame.\n",
      "Try using .loc[row_indexer,col_indexer] = value instead\n",
      "\n",
      "See the caveats in the documentation: https://pandas.pydata.org/pandas-docs/stable/user_guide/indexing.html#returning-a-view-versus-a-copy\n",
      "  df_pps['굴곡강도'] = df_pps['굴곡강도'].fillna(temp_5)\n",
      "<ipython-input-40-cbcbbd019ba6>:6: SettingWithCopyWarning: \n",
      "A value is trying to be set on a copy of a slice from a DataFrame.\n",
      "Try using .loc[row_indexer,col_indexer] = value instead\n",
      "\n",
      "See the caveats in the documentation: https://pandas.pydata.org/pandas-docs/stable/user_guide/indexing.html#returning-a-view-versus-a-copy\n",
      "  df_pps['굴곡 탄성률'] = df_pps['굴곡 탄성률'].fillna(temp_6)\n",
      "<ipython-input-40-cbcbbd019ba6>:7: SettingWithCopyWarning: \n",
      "A value is trying to be set on a copy of a slice from a DataFrame.\n",
      "Try using .loc[row_indexer,col_indexer] = value instead\n",
      "\n",
      "See the caveats in the documentation: https://pandas.pydata.org/pandas-docs/stable/user_guide/indexing.html#returning-a-view-versus-a-copy\n",
      "  df_pps['인장탄성율(Mpa)'] = df_pps['인장탄성율(Mpa)'].fillna(temp_7)\n"
     ]
    }
   ],
   "source": [
    "df_pps['비중(Specific Gravity)'] = df_pps['비중(Specific Gravity)'].fillna(temp_1)\n",
    "df_pps['인장강도'] = df_pps['인장강도'].fillna(temp_2)\n",
    "df_pps['파단강도'] = df_pps['파단강도'].fillna(temp_3)\n",
    "df_pps['신율\\n(%)'] = df_pps['신율\\n(%)'].fillna(temp_4)\n",
    "df_pps['굴곡강도'] = df_pps['굴곡강도'].fillna(temp_5)\n",
    "df_pps['굴곡 탄성률'] = df_pps['굴곡 탄성률'].fillna(temp_6)\n",
    "df_pps['인장탄성율(Mpa)'] = df_pps['인장탄성율(Mpa)'].fillna(temp_7)"
   ]
  },
  {
   "cell_type": "code",
   "execution_count": 41,
   "metadata": {},
   "outputs": [],
   "source": [
    "temp_1 = df_ppa['비중(Specific Gravity)'].sum()/len(df_ppa)\n",
    "temp_2 = df_ppa['인장강도'].sum()/len(df_ppa)\n",
    "temp_3 = df_ppa['파단강도'].sum()/len(df_ppa)\n",
    "temp_4 = df_ppa['신율\\n(%)'].sum()/len(df_ppa)\n",
    "temp_5 = df_ppa['굴곡강도'].sum()/len(df_ppa)\n",
    "temp_6 = df_ppa['굴곡 탄성률'].sum()/len(df_ppa)\n",
    "temp_7 = df_ppa['인장탄성율(Mpa)'].sum()/len(df_ppa)"
   ]
  },
  {
   "cell_type": "code",
   "execution_count": 42,
   "metadata": {
    "scrolled": true
   },
   "outputs": [
    {
     "name": "stderr",
     "output_type": "stream",
     "text": [
      "<ipython-input-42-e644571bc114>:1: SettingWithCopyWarning: \n",
      "A value is trying to be set on a copy of a slice from a DataFrame.\n",
      "Try using .loc[row_indexer,col_indexer] = value instead\n",
      "\n",
      "See the caveats in the documentation: https://pandas.pydata.org/pandas-docs/stable/user_guide/indexing.html#returning-a-view-versus-a-copy\n",
      "  df_ppa['비중(Specific Gravity)'] = df_ppa['비중(Specific Gravity)'].fillna(temp_1)\n",
      "<ipython-input-42-e644571bc114>:2: SettingWithCopyWarning: \n",
      "A value is trying to be set on a copy of a slice from a DataFrame.\n",
      "Try using .loc[row_indexer,col_indexer] = value instead\n",
      "\n",
      "See the caveats in the documentation: https://pandas.pydata.org/pandas-docs/stable/user_guide/indexing.html#returning-a-view-versus-a-copy\n",
      "  df_ppa['인장강도'] = df_ppa['인장강도'].fillna(temp_2)\n",
      "<ipython-input-42-e644571bc114>:3: SettingWithCopyWarning: \n",
      "A value is trying to be set on a copy of a slice from a DataFrame.\n",
      "Try using .loc[row_indexer,col_indexer] = value instead\n",
      "\n",
      "See the caveats in the documentation: https://pandas.pydata.org/pandas-docs/stable/user_guide/indexing.html#returning-a-view-versus-a-copy\n",
      "  df_ppa['파단강도'] = df_ppa['파단강도'].fillna(temp_3)\n",
      "<ipython-input-42-e644571bc114>:4: SettingWithCopyWarning: \n",
      "A value is trying to be set on a copy of a slice from a DataFrame.\n",
      "Try using .loc[row_indexer,col_indexer] = value instead\n",
      "\n",
      "See the caveats in the documentation: https://pandas.pydata.org/pandas-docs/stable/user_guide/indexing.html#returning-a-view-versus-a-copy\n",
      "  df_ppa['신율\\n(%)'] = df_ppa['신율\\n(%)'].fillna(temp_4)\n",
      "<ipython-input-42-e644571bc114>:5: SettingWithCopyWarning: \n",
      "A value is trying to be set on a copy of a slice from a DataFrame.\n",
      "Try using .loc[row_indexer,col_indexer] = value instead\n",
      "\n",
      "See the caveats in the documentation: https://pandas.pydata.org/pandas-docs/stable/user_guide/indexing.html#returning-a-view-versus-a-copy\n",
      "  df_ppa['굴곡강도'] = df_ppa['굴곡강도'].fillna(temp_5)\n",
      "<ipython-input-42-e644571bc114>:6: SettingWithCopyWarning: \n",
      "A value is trying to be set on a copy of a slice from a DataFrame.\n",
      "Try using .loc[row_indexer,col_indexer] = value instead\n",
      "\n",
      "See the caveats in the documentation: https://pandas.pydata.org/pandas-docs/stable/user_guide/indexing.html#returning-a-view-versus-a-copy\n",
      "  df_ppa['굴곡 탄성률'] = df_ppa['굴곡 탄성률'].fillna(temp_6)\n",
      "<ipython-input-42-e644571bc114>:7: SettingWithCopyWarning: \n",
      "A value is trying to be set on a copy of a slice from a DataFrame.\n",
      "Try using .loc[row_indexer,col_indexer] = value instead\n",
      "\n",
      "See the caveats in the documentation: https://pandas.pydata.org/pandas-docs/stable/user_guide/indexing.html#returning-a-view-versus-a-copy\n",
      "  df_ppa['인장탄성율(Mpa)'] = df_ppa['인장탄성율(Mpa)'].fillna(temp_7)\n"
     ]
    }
   ],
   "source": [
    "df_ppa['비중(Specific Gravity)'] = df_ppa['비중(Specific Gravity)'].fillna(temp_1)\n",
    "df_ppa['인장강도'] = df_ppa['인장강도'].fillna(temp_2)\n",
    "df_ppa['파단강도'] = df_ppa['파단강도'].fillna(temp_3)\n",
    "df_ppa['신율\\n(%)'] = df_ppa['신율\\n(%)'].fillna(temp_4)\n",
    "df_ppa['굴곡강도'] = df_ppa['굴곡강도'].fillna(temp_5)\n",
    "df_ppa['굴곡 탄성률'] = df_ppa['굴곡 탄성률'].fillna(temp_6)\n",
    "df_ppa['인장탄성율(Mpa)'] = df_ppa['인장탄성율(Mpa)'].fillna(temp_7)"
   ]
  },
  {
   "cell_type": "code",
   "execution_count": 43,
   "metadata": {},
   "outputs": [],
   "source": [
    "temp_1 = df_pom['비중(Specific Gravity)'].sum()/len(df_pom)\n",
    "temp_2 = df_pom['인장강도'].sum()/len(df_pom)\n",
    "temp_3 = df_pom['파단강도'].sum()/len(df_pom)\n",
    "temp_4 = df_pom['신율\\n(%)'].sum()/len(df_pom)\n",
    "temp_5 = df_pom['굴곡강도'].sum()/len(df_pom)\n",
    "temp_6 = df_pom['굴곡 탄성률'].sum()/len(df_pom)\n",
    "temp_7 = df_pom['인장탄성율(Mpa)'].sum()/len(df_pom)"
   ]
  },
  {
   "cell_type": "code",
   "execution_count": 44,
   "metadata": {
    "scrolled": true
   },
   "outputs": [
    {
     "name": "stderr",
     "output_type": "stream",
     "text": [
      "<ipython-input-44-347eea3a192f>:1: SettingWithCopyWarning: \n",
      "A value is trying to be set on a copy of a slice from a DataFrame.\n",
      "Try using .loc[row_indexer,col_indexer] = value instead\n",
      "\n",
      "See the caveats in the documentation: https://pandas.pydata.org/pandas-docs/stable/user_guide/indexing.html#returning-a-view-versus-a-copy\n",
      "  df_pom['비중(Specific Gravity)'] = df_pom['비중(Specific Gravity)'].fillna(temp_1)\n",
      "<ipython-input-44-347eea3a192f>:2: SettingWithCopyWarning: \n",
      "A value is trying to be set on a copy of a slice from a DataFrame.\n",
      "Try using .loc[row_indexer,col_indexer] = value instead\n",
      "\n",
      "See the caveats in the documentation: https://pandas.pydata.org/pandas-docs/stable/user_guide/indexing.html#returning-a-view-versus-a-copy\n",
      "  df_pom['인장강도'] = df_pom['인장강도'].fillna(temp_2)\n",
      "<ipython-input-44-347eea3a192f>:3: SettingWithCopyWarning: \n",
      "A value is trying to be set on a copy of a slice from a DataFrame.\n",
      "Try using .loc[row_indexer,col_indexer] = value instead\n",
      "\n",
      "See the caveats in the documentation: https://pandas.pydata.org/pandas-docs/stable/user_guide/indexing.html#returning-a-view-versus-a-copy\n",
      "  df_pom['파단강도'] = df_pom['파단강도'].fillna(temp_3)\n",
      "<ipython-input-44-347eea3a192f>:4: SettingWithCopyWarning: \n",
      "A value is trying to be set on a copy of a slice from a DataFrame.\n",
      "Try using .loc[row_indexer,col_indexer] = value instead\n",
      "\n",
      "See the caveats in the documentation: https://pandas.pydata.org/pandas-docs/stable/user_guide/indexing.html#returning-a-view-versus-a-copy\n",
      "  df_pom['신율\\n(%)'] = df_pom['신율\\n(%)'].fillna(temp_4)\n",
      "<ipython-input-44-347eea3a192f>:5: SettingWithCopyWarning: \n",
      "A value is trying to be set on a copy of a slice from a DataFrame.\n",
      "Try using .loc[row_indexer,col_indexer] = value instead\n",
      "\n",
      "See the caveats in the documentation: https://pandas.pydata.org/pandas-docs/stable/user_guide/indexing.html#returning-a-view-versus-a-copy\n",
      "  df_pom['굴곡강도'] = df_pom['굴곡강도'].fillna(temp_5)\n",
      "<ipython-input-44-347eea3a192f>:6: SettingWithCopyWarning: \n",
      "A value is trying to be set on a copy of a slice from a DataFrame.\n",
      "Try using .loc[row_indexer,col_indexer] = value instead\n",
      "\n",
      "See the caveats in the documentation: https://pandas.pydata.org/pandas-docs/stable/user_guide/indexing.html#returning-a-view-versus-a-copy\n",
      "  df_pom['굴곡 탄성률'] = df_pom['굴곡 탄성률'].fillna(temp_6)\n",
      "<ipython-input-44-347eea3a192f>:7: SettingWithCopyWarning: \n",
      "A value is trying to be set on a copy of a slice from a DataFrame.\n",
      "Try using .loc[row_indexer,col_indexer] = value instead\n",
      "\n",
      "See the caveats in the documentation: https://pandas.pydata.org/pandas-docs/stable/user_guide/indexing.html#returning-a-view-versus-a-copy\n",
      "  df_pom['인장탄성율(Mpa)'] = df_pom['인장탄성율(Mpa)'].fillna(temp_7)\n"
     ]
    }
   ],
   "source": [
    "df_pom['비중(Specific Gravity)'] = df_pom['비중(Specific Gravity)'].fillna(temp_1)\n",
    "df_pom['인장강도'] = df_pom['인장강도'].fillna(temp_2)\n",
    "df_pom['파단강도'] = df_pom['파단강도'].fillna(temp_3)\n",
    "df_pom['신율\\n(%)'] = df_pom['신율\\n(%)'].fillna(temp_4)\n",
    "df_pom['굴곡강도'] = df_pom['굴곡강도'].fillna(temp_5)\n",
    "df_pom['굴곡 탄성률'] = df_pom['굴곡 탄성률'].fillna(temp_6)\n",
    "df_pom['인장탄성율(Mpa)'] = df_pom['인장탄성율(Mpa)'].fillna(temp_7)"
   ]
  },
  {
   "cell_type": "code",
   "execution_count": 45,
   "metadata": {},
   "outputs": [],
   "source": [
    "df_all = pd.concat([df_abs, df_pa,df_pbt,df_pc,df_pe,df_pom,df_pp,df_ppa,df_pps,df_tpc])"
   ]
  },
  {
   "cell_type": "code",
   "execution_count": 46,
   "metadata": {},
   "outputs": [
    {
     "data": {
      "text/html": [
       "<div>\n",
       "<style scoped>\n",
       "    .dataframe tbody tr th:only-of-type {\n",
       "        vertical-align: middle;\n",
       "    }\n",
       "\n",
       "    .dataframe tbody tr th {\n",
       "        vertical-align: top;\n",
       "    }\n",
       "\n",
       "    .dataframe thead th {\n",
       "        text-align: right;\n",
       "    }\n",
       "</style>\n",
       "<table border=\"1\" class=\"dataframe\">\n",
       "  <thead>\n",
       "    <tr style=\"text-align: right;\">\n",
       "      <th></th>\n",
       "      <th>수지종류</th>\n",
       "      <th>비중(Specific Gravity)</th>\n",
       "      <th>인장강도</th>\n",
       "      <th>파단강도</th>\n",
       "      <th>신율\\n(%)</th>\n",
       "      <th>굴곡강도</th>\n",
       "      <th>굴곡 탄성률</th>\n",
       "      <th>인장탄성율(Mpa)</th>\n",
       "    </tr>\n",
       "  </thead>\n",
       "  <tbody>\n",
       "    <tr>\n",
       "      <th>0</th>\n",
       "      <td>ABS</td>\n",
       "      <td>1.06</td>\n",
       "      <td>45.000000</td>\n",
       "      <td>37.838235</td>\n",
       "      <td>7.000000</td>\n",
       "      <td>75.000000</td>\n",
       "      <td>2500.0</td>\n",
       "      <td>1827.397059</td>\n",
       "    </tr>\n",
       "    <tr>\n",
       "      <th>1</th>\n",
       "      <td>ABS</td>\n",
       "      <td>1.20</td>\n",
       "      <td>58.800000</td>\n",
       "      <td>37.838235</td>\n",
       "      <td>100.000000</td>\n",
       "      <td>88.200000</td>\n",
       "      <td>2156.0</td>\n",
       "      <td>1827.397059</td>\n",
       "    </tr>\n",
       "    <tr>\n",
       "      <th>2</th>\n",
       "      <td>ABS</td>\n",
       "      <td>1.10</td>\n",
       "      <td>39.200000</td>\n",
       "      <td>37.838235</td>\n",
       "      <td>33.683333</td>\n",
       "      <td>59.780000</td>\n",
       "      <td>1666.0</td>\n",
       "      <td>1827.397059</td>\n",
       "    </tr>\n",
       "    <tr>\n",
       "      <th>3</th>\n",
       "      <td>ABS</td>\n",
       "      <td>1.11</td>\n",
       "      <td>54.880000</td>\n",
       "      <td>37.838235</td>\n",
       "      <td>70.000000</td>\n",
       "      <td>84.280000</td>\n",
       "      <td>2058.0</td>\n",
       "      <td>1827.397059</td>\n",
       "    </tr>\n",
       "    <tr>\n",
       "      <th>4</th>\n",
       "      <td>ABS</td>\n",
       "      <td>1.13</td>\n",
       "      <td>52.920000</td>\n",
       "      <td>37.838235</td>\n",
       "      <td>110.000000</td>\n",
       "      <td>83.300000</td>\n",
       "      <td>2205.0</td>\n",
       "      <td>1827.397059</td>\n",
       "    </tr>\n",
       "    <tr>\n",
       "      <th>...</th>\n",
       "      <td>...</td>\n",
       "      <td>...</td>\n",
       "      <td>...</td>\n",
       "      <td>...</td>\n",
       "      <td>...</td>\n",
       "      <td>...</td>\n",
       "      <td>...</td>\n",
       "      <td>...</td>\n",
       "    </tr>\n",
       "    <tr>\n",
       "      <th>391</th>\n",
       "      <td>TPC</td>\n",
       "      <td>1.18</td>\n",
       "      <td>13.230000</td>\n",
       "      <td>39.200000</td>\n",
       "      <td>800.000000</td>\n",
       "      <td>0.326667</td>\n",
       "      <td>166.6</td>\n",
       "      <td>0.000000</td>\n",
       "    </tr>\n",
       "    <tr>\n",
       "      <th>392</th>\n",
       "      <td>TPC</td>\n",
       "      <td>1.21</td>\n",
       "      <td>16.660000</td>\n",
       "      <td>43.120000</td>\n",
       "      <td>670.000000</td>\n",
       "      <td>0.326667</td>\n",
       "      <td>235.2</td>\n",
       "      <td>0.000000</td>\n",
       "    </tr>\n",
       "    <tr>\n",
       "      <th>393</th>\n",
       "      <td>TPC</td>\n",
       "      <td>1.25</td>\n",
       "      <td>24.500000</td>\n",
       "      <td>44.100000</td>\n",
       "      <td>470.000000</td>\n",
       "      <td>0.326667</td>\n",
       "      <td>460.6</td>\n",
       "      <td>0.000000</td>\n",
       "    </tr>\n",
       "    <tr>\n",
       "      <th>394</th>\n",
       "      <td>TPC</td>\n",
       "      <td>1.14</td>\n",
       "      <td>6.451667</td>\n",
       "      <td>34.300000</td>\n",
       "      <td>1000.000000</td>\n",
       "      <td>0.326667</td>\n",
       "      <td>78.4</td>\n",
       "      <td>0.000000</td>\n",
       "    </tr>\n",
       "    <tr>\n",
       "      <th>395</th>\n",
       "      <td>TPC</td>\n",
       "      <td>1.16</td>\n",
       "      <td>6.451667</td>\n",
       "      <td>34.300000</td>\n",
       "      <td>1000.000000</td>\n",
       "      <td>0.326667</td>\n",
       "      <td>196.0</td>\n",
       "      <td>0.000000</td>\n",
       "    </tr>\n",
       "  </tbody>\n",
       "</table>\n",
       "<p>662 rows × 8 columns</p>\n",
       "</div>"
      ],
      "text/plain": [
       "    수지종류  비중(Specific Gravity)       인장강도       파단강도      신율\\n(%)       굴곡강도  \\\n",
       "0    ABS                  1.06  45.000000  37.838235     7.000000  75.000000   \n",
       "1    ABS                  1.20  58.800000  37.838235   100.000000  88.200000   \n",
       "2    ABS                  1.10  39.200000  37.838235    33.683333  59.780000   \n",
       "3    ABS                  1.11  54.880000  37.838235    70.000000  84.280000   \n",
       "4    ABS                  1.13  52.920000  37.838235   110.000000  83.300000   \n",
       "..   ...                   ...        ...        ...          ...        ...   \n",
       "391  TPC                  1.18  13.230000  39.200000   800.000000   0.326667   \n",
       "392  TPC                  1.21  16.660000  43.120000   670.000000   0.326667   \n",
       "393  TPC                  1.25  24.500000  44.100000   470.000000   0.326667   \n",
       "394  TPC                  1.14   6.451667  34.300000  1000.000000   0.326667   \n",
       "395  TPC                  1.16   6.451667  34.300000  1000.000000   0.326667   \n",
       "\n",
       "     굴곡 탄성률   인장탄성율(Mpa)  \n",
       "0    2500.0  1827.397059  \n",
       "1    2156.0  1827.397059  \n",
       "2    1666.0  1827.397059  \n",
       "3    2058.0  1827.397059  \n",
       "4    2205.0  1827.397059  \n",
       "..      ...          ...  \n",
       "391   166.6     0.000000  \n",
       "392   235.2     0.000000  \n",
       "393   460.6     0.000000  \n",
       "394    78.4     0.000000  \n",
       "395   196.0     0.000000  \n",
       "\n",
       "[662 rows x 8 columns]"
      ]
     },
     "execution_count": 46,
     "metadata": {},
     "output_type": "execute_result"
    }
   ],
   "source": [
    "df_all"
   ]
  },
  {
   "cell_type": "code",
   "execution_count": 47,
   "metadata": {},
   "outputs": [
    {
     "data": {
      "text/plain": [
       "수지종류                    0\n",
       "비중(Specific Gravity)    0\n",
       "인장강도                    0\n",
       "파단강도                    0\n",
       "신율\\n(%)                 0\n",
       "굴곡강도                    0\n",
       "굴곡 탄성률                  0\n",
       "인장탄성율(Mpa)              0\n",
       "dtype: int64"
      ]
     },
     "execution_count": 47,
     "metadata": {},
     "output_type": "execute_result"
    }
   ],
   "source": [
    "df_all.isna().sum()"
   ]
  },
  {
   "cell_type": "code",
   "execution_count": 48,
   "metadata": {},
   "outputs": [],
   "source": [
    "X = df_all.iloc[:,1:8]\n",
    "y = df_all['수지종류']"
   ]
  },
  {
   "cell_type": "code",
   "execution_count": 49,
   "metadata": {},
   "outputs": [],
   "source": [
    "X_train, X_test, y_train, y_test = train_test_split(X, y, test_size = 0.3, random_state=0) "
   ]
  },
  {
   "cell_type": "code",
   "execution_count": 50,
   "metadata": {},
   "outputs": [
    {
     "name": "stderr",
     "output_type": "stream",
     "text": [
      "C:\\Users\\CPB06GameN\\anaconda3\\lib\\site-packages\\sklearn\\linear_model\\_logistic.py:763: ConvergenceWarning: lbfgs failed to converge (status=1):\n",
      "STOP: TOTAL NO. of ITERATIONS REACHED LIMIT.\n",
      "\n",
      "Increase the number of iterations (max_iter) or scale the data as shown in:\n",
      "    https://scikit-learn.org/stable/modules/preprocessing.html\n",
      "Please also refer to the documentation for alternative solver options:\n",
      "    https://scikit-learn.org/stable/modules/linear_model.html#logistic-regression\n",
      "  n_iter_i = _check_optimize_result(\n"
     ]
    },
    {
     "data": {
      "text/plain": [
       "(0.6609071274298056, 0.6331658291457286)"
      ]
     },
     "execution_count": 50,
     "metadata": {},
     "output_type": "execute_result"
    }
   ],
   "source": [
    "from sklearn.linear_model import LogisticRegression\n",
    "lr = LogisticRegression(max_iter=1000)\n",
    "lr.fit(X_train, y_train)\n",
    "lr.score(X_train, y_train), lr.score(X_test, y_test)"
   ]
  },
  {
   "cell_type": "code",
   "execution_count": 51,
   "metadata": {},
   "outputs": [
    {
     "data": {
      "text/plain": [
       "(0.9157667386609071, 0.6432160804020101)"
      ]
     },
     "execution_count": 51,
     "metadata": {},
     "output_type": "execute_result"
    }
   ],
   "source": [
    "from sklearn.neighbors import KNeighborsClassifier\n",
    "knn = KNeighborsClassifier(n_neighbors=1)\n",
    "knn.fit(X_train,y_train)\n",
    "knn.score(X_train, y_train), knn.score(X_test, y_test)"
   ]
  },
  {
   "cell_type": "code",
   "execution_count": 52,
   "metadata": {},
   "outputs": [
    {
     "data": {
      "text/plain": [
       "(0.9200863930885529, 0.7236180904522613)"
      ]
     },
     "execution_count": 52,
     "metadata": {},
     "output_type": "execute_result"
    }
   ],
   "source": [
    "from sklearn.tree import DecisionTreeClassifier\n",
    "tree = DecisionTreeClassifier(random_state=0)\n",
    "tree.fit(X_train, y_train)\n",
    "tree.score(X_train, y_train), tree.score(X_test, y_test)"
   ]
  },
  {
   "cell_type": "code",
   "execution_count": 53,
   "metadata": {},
   "outputs": [
    {
     "data": {
      "text/plain": [
       "(0.47516198704103674, 0.4120603015075377)"
      ]
     },
     "execution_count": 53,
     "metadata": {},
     "output_type": "execute_result"
    }
   ],
   "source": [
    "from sklearn.neural_network import MLPClassifier\n",
    "mlp = MLPClassifier(random_state=0)\n",
    "mlp.fit(X_train, y_train)\n",
    "mlp.score(X_train, y_train), mlp.score(X_test, y_test)"
   ]
  },
  {
   "cell_type": "code",
   "execution_count": 54,
   "metadata": {},
   "outputs": [],
   "source": [
    "tree_score1 = tree.score(X_train, y_train)\n",
    "tree_score2 = tree.score(X_test, y_test)\n",
    "knn_score1 = knn.score(X_train, y_train)\n",
    "knn_score2 = knn.score(X_test, y_test)\n",
    "lr_score1 = lr.score(X_train, y_train)\n",
    "lr_score2 = lr.score(X_test, y_test)"
   ]
  },
  {
   "cell_type": "code",
   "execution_count": 55,
   "metadata": {},
   "outputs": [
    {
     "data": {
      "text/plain": [
       "Index(['비중(Specific Gravity)', '인장강도', '파단강도', '신율\\n(%)', '굴곡강도', '굴곡 탄성률',\n",
       "       '인장탄성율(Mpa)'],\n",
       "      dtype='object')"
      ]
     },
     "execution_count": 55,
     "metadata": {},
     "output_type": "execute_result"
    }
   ],
   "source": [
    "X.columns"
   ]
  },
  {
   "cell_type": "markdown",
   "metadata": {},
   "source": [
    "# DecisionTreeClassifier 머신러닝 선정"
   ]
  },
  {
   "cell_type": "code",
   "execution_count": 56,
   "metadata": {},
   "outputs": [],
   "source": [
    "plot_df = pd.DataFrame()"
   ]
  },
  {
   "cell_type": "code",
   "execution_count": 57,
   "metadata": {},
   "outputs": [],
   "source": [
    "plot_df[\"train/test\"] = ['train','test','train','test','train','test']\n",
    "plot_df['model'] = ['decision_tree','decision_tree','KNeighborsClassifier','KNeighborsClassifier',\n",
    "                    'LogisticRegression','LogisticRegression']\n",
    "plot_df[\"score\"] = [tree_score1,tree_score2,knn_score1,knn_score2,lr_score1,lr_score2]"
   ]
  },
  {
   "cell_type": "code",
   "execution_count": 58,
   "metadata": {},
   "outputs": [
    {
     "data": {
      "text/html": [
       "<div>\n",
       "<style scoped>\n",
       "    .dataframe tbody tr th:only-of-type {\n",
       "        vertical-align: middle;\n",
       "    }\n",
       "\n",
       "    .dataframe tbody tr th {\n",
       "        vertical-align: top;\n",
       "    }\n",
       "\n",
       "    .dataframe thead th {\n",
       "        text-align: right;\n",
       "    }\n",
       "</style>\n",
       "<table border=\"1\" class=\"dataframe\">\n",
       "  <thead>\n",
       "    <tr style=\"text-align: right;\">\n",
       "      <th></th>\n",
       "      <th>train/test</th>\n",
       "      <th>model</th>\n",
       "      <th>score</th>\n",
       "    </tr>\n",
       "  </thead>\n",
       "  <tbody>\n",
       "    <tr>\n",
       "      <th>0</th>\n",
       "      <td>train</td>\n",
       "      <td>decision_tree</td>\n",
       "      <td>0.920086</td>\n",
       "    </tr>\n",
       "    <tr>\n",
       "      <th>1</th>\n",
       "      <td>test</td>\n",
       "      <td>decision_tree</td>\n",
       "      <td>0.723618</td>\n",
       "    </tr>\n",
       "    <tr>\n",
       "      <th>2</th>\n",
       "      <td>train</td>\n",
       "      <td>KNeighborsClassifier</td>\n",
       "      <td>0.915767</td>\n",
       "    </tr>\n",
       "    <tr>\n",
       "      <th>3</th>\n",
       "      <td>test</td>\n",
       "      <td>KNeighborsClassifier</td>\n",
       "      <td>0.643216</td>\n",
       "    </tr>\n",
       "    <tr>\n",
       "      <th>4</th>\n",
       "      <td>train</td>\n",
       "      <td>LogisticRegression</td>\n",
       "      <td>0.660907</td>\n",
       "    </tr>\n",
       "    <tr>\n",
       "      <th>5</th>\n",
       "      <td>test</td>\n",
       "      <td>LogisticRegression</td>\n",
       "      <td>0.633166</td>\n",
       "    </tr>\n",
       "  </tbody>\n",
       "</table>\n",
       "</div>"
      ],
      "text/plain": [
       "  train/test                 model     score\n",
       "0      train         decision_tree  0.920086\n",
       "1       test         decision_tree  0.723618\n",
       "2      train  KNeighborsClassifier  0.915767\n",
       "3       test  KNeighborsClassifier  0.643216\n",
       "4      train    LogisticRegression  0.660907\n",
       "5       test    LogisticRegression  0.633166"
      ]
     },
     "execution_count": 58,
     "metadata": {},
     "output_type": "execute_result"
    }
   ],
   "source": [
    "plot_df"
   ]
  },
  {
   "cell_type": "code",
   "execution_count": 59,
   "metadata": {},
   "outputs": [
    {
     "data": {
      "image/png": "[encoded data removed]",
      "text/plain": [
       "<Figure size 432x288 with 1 Axes>"
      ]
     },
     "metadata": {
      "needs_background": "light"
     },
     "output_type": "display_data"
    }
   ],
   "source": [
    "sns.barplot(x='model', y='score', hue='train/test', data=plot_df) # default : dodge=True\n",
    "\n",
    "plt.title('Machine Learning score', fontsize=20)\n",
    "\n",
    "plt.legend(fontsize=12)\n",
    "\n",
    "plt.show()"
   ]
  },
  {
   "cell_type": "markdown",
   "metadata": {},
   "source": [
    "# 최종 결론 - 테크온측에서 준 FRP, CFRP의 기준치를 머신러닝에 적용해 최종 수지를 결론"
   ]
  },
  {
   "cell_type": "code",
   "execution_count": 60,
   "metadata": {},
   "outputs": [],
   "source": [
    "# GFRP (EFRP) 2.55,72,0,4.8,0,0,3400  2.55 3400\n",
    "# GFRP (SFRP) 2.5, 87, 0, 5.7, 0, 0, 4480\n",
    "# CFRP (고강도) 1.8, 300, 0, 2.1, 0, 0, 6500\n",
    "# CFRP (고탄성) 1.98, 650, 0, 0.5, 0, 0, 3400"
   ]
  },
  {
   "cell_type": "code",
   "execution_count": 61,
   "metadata": {},
   "outputs": [],
   "source": [
    "pre = pd.DataFrame()\n",
    "pre['비중(Specific Gravity)'] = [2.55,2.5,1.8,1.98]\n",
    "pre['인장강도'] = [72,87,300,650]\n",
    "pre['파단강도'] = [0,0,0,0]\n",
    "pre['신율\\n(%)'] = [4.8,5.7,2.1,0.5]\n",
    "pre['굴곡강도'] = [0,0,0,0]\n",
    "pre['굴곡 탄성률'] = [0,0,0,0]\n",
    "pre['인장탄성율(Mpa)'] = [3400,4480,6500,3400]"
   ]
  },
  {
   "cell_type": "code",
   "execution_count": 62,
   "metadata": {},
   "outputs": [
    {
     "data": {
      "text/plain": [
       "array(['PE', 'PE', 'PPS', 'PPS'], dtype=object)"
      ]
     },
     "execution_count": 62,
     "metadata": {},
     "output_type": "execute_result"
    }
   ],
   "source": [
    "efrp_predict = tree.predict(pre)\n",
    "efrp_predict"
   ]
  },
  {
   "cell_type": "code",
   "execution_count": 63,
   "metadata": {},
   "outputs": [
    {
     "data": {
      "text/html": [
       "<div>\n",
       "<style scoped>\n",
       "    .dataframe tbody tr th:only-of-type {\n",
       "        vertical-align: middle;\n",
       "    }\n",
       "\n",
       "    .dataframe tbody tr th {\n",
       "        vertical-align: top;\n",
       "    }\n",
       "\n",
       "    .dataframe thead th {\n",
       "        text-align: right;\n",
       "    }\n",
       "</style>\n",
       "<table border=\"1\" class=\"dataframe\">\n",
       "  <thead>\n",
       "    <tr style=\"text-align: right;\">\n",
       "      <th></th>\n",
       "      <th>제품군</th>\n",
       "      <th>특징</th>\n",
       "      <th>용도</th>\n",
       "      <th>수지종류</th>\n",
       "      <th>비중(Specific Gravity)</th>\n",
       "      <th>인장강도</th>\n",
       "      <th>파단강도</th>\n",
       "      <th>신율\\n(%)</th>\n",
       "      <th>굴곡강도</th>\n",
       "      <th>굴곡 탄성률</th>\n",
       "      <th>인장탄성율(Mpa)</th>\n",
       "    </tr>\n",
       "  </thead>\n",
       "  <tbody>\n",
       "    <tr>\n",
       "      <th>373</th>\n",
       "      <td>AE-2230</td>\n",
       "      <td>일반</td>\n",
       "      <td>자동차</td>\n",
       "      <td>PE</td>\n",
       "      <td>1.35</td>\n",
       "      <td>55.0</td>\n",
       "      <td>61.0</td>\n",
       "      <td>7.0</td>\n",
       "      <td>90.0</td>\n",
       "      <td>3900.0</td>\n",
       "      <td>4000.0</td>\n",
       "    </tr>\n",
       "  </tbody>\n",
       "</table>\n",
       "</div>"
      ],
      "text/plain": [
       "         제품군  특징   용도 수지종류  비중(Specific Gravity)  인장강도  파단강도  신율\\n(%)  굴곡강도  \\\n",
       "373  AE-2230  일반  자동차   PE                  1.35  55.0  61.0      7.0  90.0   \n",
       "\n",
       "     굴곡 탄성률  인장탄성율(Mpa)  \n",
       "373  3900.0      4000.0  "
      ]
     },
     "execution_count": 63,
     "metadata": {},
     "output_type": "execute_result"
    }
   ],
   "source": [
    "a = ta[ta['수지종류'] == 'PE']\n",
    "a[a[\"용도\"] == '자동차']"
   ]
  },
  {
   "cell_type": "code",
   "execution_count": 64,
   "metadata": {},
   "outputs": [
    {
     "data": {
      "text/html": [
       "<div>\n",
       "<style scoped>\n",
       "    .dataframe tbody tr th:only-of-type {\n",
       "        vertical-align: middle;\n",
       "    }\n",
       "\n",
       "    .dataframe tbody tr th {\n",
       "        vertical-align: top;\n",
       "    }\n",
       "\n",
       "    .dataframe thead th {\n",
       "        text-align: right;\n",
       "    }\n",
       "</style>\n",
       "<table border=\"1\" class=\"dataframe\">\n",
       "  <thead>\n",
       "    <tr style=\"text-align: right;\">\n",
       "      <th></th>\n",
       "      <th>제품군</th>\n",
       "      <th>특징</th>\n",
       "      <th>용도</th>\n",
       "      <th>수지종류</th>\n",
       "      <th>비중(Specific Gravity)</th>\n",
       "      <th>인장강도</th>\n",
       "      <th>파단강도</th>\n",
       "      <th>신율\\n(%)</th>\n",
       "      <th>굴곡강도</th>\n",
       "      <th>굴곡 탄성률</th>\n",
       "      <th>인장탄성율(Mpa)</th>\n",
       "    </tr>\n",
       "  </thead>\n",
       "  <tbody>\n",
       "    <tr>\n",
       "      <th>270</th>\n",
       "      <td>LUSEP GP4600</td>\n",
       "      <td>GF/MF60% 보강, 표면 특성, 치수안전성</td>\n",
       "      <td>자동차 부품, 전기전자 부품 등</td>\n",
       "      <td>PPS</td>\n",
       "      <td>1.91</td>\n",
       "      <td>155.0</td>\n",
       "      <td>NaN</td>\n",
       "      <td>1.1</td>\n",
       "      <td>228.0</td>\n",
       "      <td>17700.0</td>\n",
       "      <td>NaN</td>\n",
       "    </tr>\n",
       "  </tbody>\n",
       "</table>\n",
       "</div>"
      ],
      "text/plain": [
       "              제품군                         특징                 용도 수지종류  \\\n",
       "270  LUSEP GP4600  GF/MF60% 보강, 표면 특성, 치수안전성  자동차 부품, 전기전자 부품 등  PPS   \n",
       "\n",
       "     비중(Specific Gravity)   인장강도  파단강도  신율\\n(%)   굴곡강도   굴곡 탄성률  인장탄성율(Mpa)  \n",
       "270                  1.91  155.0   NaN      1.1  228.0  17700.0         NaN  "
      ]
     },
     "execution_count": 64,
     "metadata": {},
     "output_type": "execute_result"
    }
   ],
   "source": [
    "b = ta[ta['수지종류'] == 'PPS']\n",
    "b[b[\"특징\"] == 'GF/MF60% 보강, 표면 특성, 치수안전성']"
   ]
  },
  {
   "cell_type": "markdown",
   "metadata": {},
   "source": [
    "#  FRP -> PE : AE-2230\n",
    "# CFRP -> PPS : LUSEP GP4600"
   ]
  }
 ],
 "metadata": {
  "kernelspec": {
   "display_name": "Python 3",
   "language": "python",
   "name": "python3"
  },
  "language_info": {
   "codemirror_mode": {
    "name": "ipython",
    "version": 3
   },
   "file_extension": ".py",
   "mimetype": "text/x-python",
   "name": "python",
   "nbconvert_exporter": "python",
   "pygments_lexer": "ipython3",
   "version": "3.8.8"
  }
 },
 "nbformat": 4,
 "nbformat_minor": 4
}
